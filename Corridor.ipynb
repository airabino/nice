{
 "cells": [
  {
   "cell_type": "code",
   "execution_count": 1,
   "id": "5458a8e5-5a97-40dc-8596-315a8e0eebe4",
   "metadata": {},
   "outputs": [],
   "source": [
    "import warnings\n",
    "warnings.filterwarnings(\"ignore\")\n",
    "\n",
    "import os\n",
    "import sys\n",
    "import time\n",
    "import json\n",
    "import numpy as np\n",
    "import pandas as pd\n",
    "import geopandas as gpd\n",
    "import pickle as pkl\n",
    "import networkx as nx\n",
    "import matplotlib.pyplot as plt\n",
    "\n",
    "from scipy.stats import rv_histogram\n",
    "\n",
    "import nice\n",
    "from nice.reload import deep_reload"
   ]
  },
  {
   "cell_type": "code",
   "execution_count": 113,
   "id": "df397a6f-9899-4a74-a6f9-e3661277249e",
   "metadata": {},
   "outputs": [],
   "source": [
    "'''\n",
    "Data\n",
    "'''\n",
    "\n",
    "state = gpd.read_file('Data/Geometry/california.shp')\n",
    "counties = gpd.read_file('Data/Geometry/california_counties.shp')\n",
    "\n",
    "atlas = nice.graph.graph_from_json('Data/atlas.json')\n",
    "atlas = nice.graph.giant_connected_component(atlas)\n",
    "\n",
    "reduced_atlas = nice.graph.graph_from_json('Data/reduced_atlas.json')\n",
    "\n",
    "stations = nice.graph.graph_from_json('Data/stations.json')\n",
    "\n",
    "places = nice.graph.graph_from_json('Data/places_50k.json')"
   ]
  },
  {
   "cell_type": "code",
   "execution_count": 114,
   "id": "364e5a2e-ef1d-4b2a-ae33-58c88be4d38b",
   "metadata": {},
   "outputs": [],
   "source": [
    "'''\n",
    "Defining the corridor outline\n",
    "'''\n",
    "deep_reload(nice)\n",
    "\n",
    "termini = nice.graph.subgraph(\n",
    "    places, ['Sacramento, CA', 'Santa Clarita, CA', 'Fresno, CA'],\n",
    ")\n",
    "\n",
    "graph_to_atlas, atlas_to_graph = nice.graph.node_assignment(\n",
    "    atlas, termini\n",
    ")\n",
    "\n",
    "selection = []\n",
    "\n",
    "for origin in termini.nodes:\n",
    "    for destination in termini.nodes:\n",
    "        \n",
    "        path = nx.shortest_path(\n",
    "            atlas,\n",
    "            graph_to_atlas[origin],\n",
    "            target = graph_to_atlas[destination],\n",
    "            weight = 'time',\n",
    "        )\n",
    "\n",
    "        selection.extend(path)\n",
    "\n",
    "selection = list(np.unique(selection))\n",
    "\n",
    "corridor = nice.graph.subgraph(atlas, selection)"
   ]
  },
  {
   "cell_type": "code",
   "execution_count": 115,
   "id": "552adc3c-dae1-4658-83cf-6dc1db22c19c",
   "metadata": {},
   "outputs": [],
   "source": [
    "'''\n",
    "Defining the corridor atlas\n",
    "'''\n",
    "deep_reload(nice)\n",
    "\n",
    "from shapely import Polygon\n",
    "from shapely import affinity\n",
    "\n",
    "pairs = [\n",
    "    ('Sacramento, CA', 'Santa Clarita, CA'),\n",
    "    ('Santa Clarita, CA', 'Fresno, CA'),\n",
    "    ('Fresno, CA', 'Sacramento, CA'),\n",
    "]\n",
    "\n",
    "coords = []\n",
    "\n",
    "for pair in pairs:\n",
    "\n",
    "    path = nx.shortest_path(\n",
    "        atlas,\n",
    "        graph_to_atlas[pair[0]],\n",
    "        target = graph_to_atlas[pair[1]],\n",
    "        weight = 'time',\n",
    "    )\n",
    "    \n",
    "\n",
    "    coords.extend(\n",
    "        [(atlas._node[path[i - 1]]['x'], atlas._node[path[i]]['y']) \\\n",
    "         for i in range(1, len(path))]\n",
    "    )\n",
    "\n",
    "polygon = Polygon(coords)\n",
    "scaled_polygon = affinity.scale(polygon, xfact = 1.05, yfact = 1.05)\n",
    "\n",
    "x = [n['x'] for n in atlas._node.values()]\n",
    "y = [n['y'] for n in atlas._node.values()]\n",
    "k = np.array(list(atlas.nodes))\n",
    "\n",
    "in_corridor = nice.in_polygon.points_in_polygon(scaled_polygon, x, y)\n",
    "\n",
    "corridor_roads = nice.graph.subgraph(atlas, k[in_corridor])\n",
    "\n",
    "corridor_atlas = nice.graph.supergraph((corridor, corridor_roads))\n",
    "corridor_atlas = nice.graph.giant_connected_component(corridor_atlas)"
   ]
  },
  {
   "cell_type": "code",
   "execution_count": 116,
   "id": "44c28d58-1610-484e-a9b3-d90eca0d2a84",
   "metadata": {},
   "outputs": [],
   "source": [
    "'''\n",
    "Corridor places and stations\n",
    "'''\n",
    "deep_reload(nice)\n",
    "\n",
    "relation_stations = nice.graph.relate(corridor_atlas, stations)\n",
    "\n",
    "corridor_stations = nice.graph.subgraph(\n",
    "    stations, [r['id_graph'] for r in relation_stations if r['distance'] <= 5e3]\n",
    ")\n",
    "\n",
    "relation_places = nice.graph.relate(corridor_atlas, places)\n",
    "\n",
    "corridor_places = nice.graph.subgraph(\n",
    "    places, [r['id_graph'] for r in relation_places if r['distance'] <= 5e3]\n",
    ")"
   ]
  },
  {
   "cell_type": "code",
   "execution_count": 250,
   "id": "9803ee12-2ef3-4de0-b648-67393c070bde",
   "metadata": {},
   "outputs": [
    {
     "name": "stdout",
     "output_type": "stream",
     "text": [
      "528 done, 0 in queue                   \r"
     ]
    }
   ],
   "source": [
    "'''\n",
    "Station candidate locations\n",
    "'''\n",
    "deep_reload(nice)\n",
    "\n",
    "origins = list(\n",
    "    np.unique(\n",
    "        [r['id_atlas'] for r in relation_stations if r['distance'] <= 5e3] +\n",
    "        [r['id_atlas'] for r in relation_places if r['distance'] <= 5e3]\n",
    "    )\n",
    ")\n",
    "\n",
    "candidate_locations = nice.graph.reduction(\n",
    "    corridor_atlas,\n",
    "    # origins = origins,\n",
    "    objective = 'distance',\n",
    "    # maximum_cost = 20e3,\n",
    ")"
   ]
  },
  {
   "cell_type": "code",
   "execution_count": 256,
   "id": "ce066c64-0a80-40f4-909f-c8a8d89c9972",
   "metadata": {},
   "outputs": [
    {
     "data": {
      "text/plain": [
       "(6054, 6055)"
      ]
     },
     "execution_count": 256,
     "metadata": {},
     "output_type": "execute_result"
    }
   ],
   "source": [
    "list(corridor_atlas.edges())[0]"
   ]
  },
  {
   "cell_type": "code",
   "execution_count": 259,
   "id": "b1a71396-7dff-429c-821f-5a358d5a9d1a",
   "metadata": {},
   "outputs": [
    {
     "data": {
      "text/plain": [
       "{'distance': 420.0,\n",
       " 'speed': 28.88888888888889,\n",
       " 'time': 14.538461538461538,\n",
       " 'price': 0,\n",
       " 'roadnum': 'S99'}"
      ]
     },
     "execution_count": 259,
     "metadata": {},
     "output_type": "execute_result"
    }
   ],
   "source": [
    "corridor_atlas._adj[6054][6055]"
   ]
  },
  {
   "cell_type": "code",
   "execution_count": 264,
   "id": "6946e332-ae3a-44d2-a9f9-814b046cb337",
   "metadata": {},
   "outputs": [
    {
     "data": {
      "image/png": "[encoded data removed]",
      "text/plain": [
       "<Figure size 600x600 with 2 Axes>"
      ]
     },
     "metadata": {},
     "output_type": "display_data"
    }
   ],
   "source": [
    "fig, ax = plt.subplots(figsize = (6, 6))\n",
    "\n",
    "kw = {\n",
    "    'plot': {\n",
    "        'color': 'red',\n",
    "        's': 5,\n",
    "        'zorder': 2,\n",
    "    },\n",
    "}\n",
    "    \n",
    "# _ = nice.plot.plot_nodes(corridor_stations, ax = ax, **kw)\n",
    "\n",
    "kw = {\n",
    "    'plot': {\n",
    "        'color': 'blue',\n",
    "        's': 5,\n",
    "        'zorder': 3,\n",
    "    },\n",
    "}\n",
    "    \n",
    "# _ = nice.plot.plot_nodes(places, ax = ax, **kw)\n",
    "\n",
    "kw = {\n",
    "    'plot': {\n",
    "        'color': 'red',\n",
    "        's': 10,\n",
    "        'zorder': 3,\n",
    "    },\n",
    "}\n",
    "    \n",
    "_ = nice.plot.plot_nodes(candidate_locations, ax = ax, **kw)\n",
    "\n",
    "kw = {\n",
    "    'field': 'speed',\n",
    "    'plot': {  \n",
    "        'color': 'black',\n",
    "        'zorder': 1,\n",
    "    },\n",
    "    'colorbar': {}\n",
    "}\n",
    "    \n",
    "_ = nice.plot.plot_edges(corridor_atlas, ax = ax, **kw)\n",
    "\n",
    "ax.set_aspect('equal')"
   ]
  },
  {
   "cell_type": "code",
   "execution_count": 265,
   "id": "808d8ba6-03dd-4fe7-adc9-52c69cb702cc",
   "metadata": {},
   "outputs": [],
   "source": [
    "nice.graph.graph_to_json(corridor_atlas, 'Data/corridor_atlas.json')\n",
    "nice.graph.graph_to_json(corridor_stations, 'Data/corridor_stations.json')\n",
    "nice.graph.graph_to_json(corridor_places, 'Data/corridor_places.json')\n",
    "nice.graph.graph_to_json(candidate_locations, 'Data/candidate_locations.json')"
   ]
  },
  {
   "cell_type": "code",
   "execution_count": 228,
   "id": "ea606d4f-1814-4fa3-869b-12b5b31bd727",
   "metadata": {},
   "outputs": [],
   "source": [
    "'''\n",
    "Closest corridor place\n",
    "'''\n",
    "\n",
    "graph_to_atlas, atlas_to_graph = nice.graph.node_assignment(\n",
    "    atlas, places\n",
    ")\n",
    "\n",
    "origins = [graph_to_atlas[p] for p in corridor_places.nodes]\n",
    "\n",
    "costs, values, paths = nice.graph.dijkstra(\n",
    "    atlas, origins = origins, objective = 'time', fields = ['time', 'distance'],\n",
    ")"
   ]
  },
  {
   "cell_type": "code",
   "execution_count": 243,
   "id": "e59ff3f3-342f-4dd6-86e6-9132865e2191",
   "metadata": {},
   "outputs": [],
   "source": [
    "for source, node in corridor_places._node.items():\n",
    "\n",
    "    s = graph_to_atlas[source]\n",
    "\n",
    "    node['places'] = {}\n",
    "\n",
    "    for k, v in places._node.items():\n",
    "\n",
    "        t = graph_to_atlas[k]\n",
    "        \n",
    "        if paths[t][0] == s:\n",
    "\n",
    "            node['places'][k] = {'population': v['population'], **values[t]}"
   ]
  },
  {
   "cell_type": "code",
   "execution_count": 198,
   "id": "370bb30b-336b-433e-a0ff-89ab2bf016c3",
   "metadata": {},
   "outputs": [],
   "source": [
    "# {p: costs[graph_to_atlas[p]] / 3600 for p in places.nodes}\n",
    "entry_values = (\n",
    "    {p: values[graph_to_atlas[p]] for p in places.nodes}\n",
    ")\n",
    "\n",
    "entry_points = (\n",
    "    {p: atlas_to_graph[paths[graph_to_atlas[p]][0]][0] for p in places.nodes}\n",
    ")\n",
    "\n",
    "# entry_points"
   ]
  },
  {
   "cell_type": "code",
   "execution_count": 206,
   "id": "0c0fe6ae-b020-473f-9505-5d4d05917272",
   "metadata": {},
   "outputs": [],
   "source": [
    "d = {k: [] for k in corridor_places.nodes}\n",
    "w = {k: [] for k in corridor_places.nodes}\n",
    "\n",
    "for k, v in entry_values.items():\n",
    "\n",
    "    d[entry_points[k]].append(v['distance'])\n",
    "    w[entry_points[k]].append(places._node[k]['population'])"
   ]
  },
  {
   "cell_type": "code",
   "execution_count": 218,
   "id": "662b2495-0124-43f9-906e-eec515a7c789",
   "metadata": {},
   "outputs": [
    {
     "data": {
      "text/plain": [
       "(array([      0.,  697864., 1588773.,  853964.,  640304., 2147217.,\n",
       "        3135792., 2904864., 4680927.,  227123.]),\n",
       " array([0. , 0.1, 0.2, 0.3, 0.4, 0.5, 0.6, 0.7, 0.8, 0.9, 1. ]),\n",
       " <BarContainer object of 10 artists>)"
      ]
     },
     "execution_count": 218,
     "metadata": {},
     "output_type": "execute_result"
    },
    {
     "data": {
      "image/png": "[encoded data removed]",
      "text/plain": [
       "<Figure size 640x480 with 1 Axes>"
      ]
     },
     "metadata": {},
     "output_type": "display_data"
    }
   ],
   "source": [
    "p = 'Tracy, CA'\n",
    "p = 'Santa Clarita, CA'\n",
    "# p = 'Sacramento, CA'\n",
    "# p = 'Bakersfield, CA'\n",
    "\n",
    "plt.hist(\n",
    "    1 - np.array(d[p]) / 300e3,\n",
    "    weights = w[p],\n",
    "    bins = np.linspace(0, 1, 11),\n",
    "    # density = True,\n",
    ")"
   ]
  },
  {
   "cell_type": "code",
   "execution_count": 245,
   "id": "be970daf-addc-4555-9776-5f71073defa6",
   "metadata": {},
   "outputs": [
    {
     "name": "stdout",
     "output_type": "stream",
     "text": [
      "\u001b[1m\u001b[38;5;34m\u001b[48;5;0m [--------->] (409/409) 100.00%, 16.26 it/s, 25.21 s elapsed, 0.00 s remaining"
     ]
    }
   ],
   "source": [
    "'''\n",
    "Making the corridor graph\n",
    "'''\n",
    "\n",
    "corridor_graph = nice.graph.supergraph([corridor_places, corridor_stations])\n",
    "\n",
    "corridor_graph = nice.graph.adjacency(\n",
    "    corridor_atlas, corridor_graph, objective = 'time'\n",
    ")"
   ]
  },
  {
   "cell_type": "code",
   "execution_count": 246,
   "id": "6cb2863f-6d2c-4905-9643-c915ccdfdf43",
   "metadata": {},
   "outputs": [],
   "source": [
    "nice.graph.graph_to_json(corridor_graph, 'Data/corridor_graph.json')"
   ]
  },
  {
   "cell_type": "code",
   "execution_count": 224,
   "id": "6ae7aefb-01df-4b04-b3fa-a3e64d539080",
   "metadata": {},
   "outputs": [
    {
     "data": {
      "image/png": "[encoded data removed]",
      "text/plain": [
       "<Figure size 600x600 with 1 Axes>"
      ]
     },
     "metadata": {},
     "output_type": "display_data"
    }
   ],
   "source": [
    "fig, ax = plt.subplots(figsize = (6, 6))\n",
    "\n",
    "kw = {\n",
    "    'edges': {},\n",
    "    'nodes': {},\n",
    "    # 'plot': {\n",
    "    #     'color': 'black',\n",
    "    #     'zorder': 1,\n",
    "    # },\n",
    "}\n",
    "    \n",
    "_ = nice.plot.plot_graph(corridor_graph, ax = ax, **kw)\n",
    "\n",
    "ax.set_aspect('equal')"
   ]
  }
 ],
 "metadata": {
  "kernelspec": {
   "display_name": "Python [conda env:base] *",
   "language": "python",
   "name": "conda-base-py"
  },
  "language_info": {
   "codemirror_mode": {
    "name": "ipython",
    "version": 3
   },
   "file_extension": ".py",
   "mimetype": "text/x-python",
   "name": "python",
   "nbconvert_exporter": "python",
   "pygments_lexer": "ipython3",
   "version": "3.12.7"
  }
 },
 "nbformat": 4,
 "nbformat_minor": 5
}
