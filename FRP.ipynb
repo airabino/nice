{
 "cells": [
  {
   "cell_type": "code",
   "execution_count": 1,
   "id": "f9004c39-698c-477b-8ef3-ad10bebb04a0",
   "metadata": {},
   "outputs": [],
   "source": [
    "import warnings\n",
    "warnings.filterwarnings(\"ignore\")\n",
    "\n",
    "import os\n",
    "import sys\n",
    "import time\n",
    "import json\n",
    "import numpy as np\n",
    "import pandas as pd\n",
    "import geopandas as gpd\n",
    "import pickle as pkl\n",
    "import networkx as nx\n",
    "import matplotlib.pyplot as plt\n",
    "\n",
    "from scipy.stats import rv_histogram\n",
    "\n",
    "import nice\n",
    "from nice.reload import deep_reload"
   ]
  },
  {
   "cell_type": "code",
   "execution_count": 28,
   "id": "5d7c2188-0fdb-4bdd-ad7e-f0dad02f3ac4",
   "metadata": {},
   "outputs": [],
   "source": [
    "'''\n",
    "Creating an atlas\n",
    "'''\n",
    "\n",
    "deep_reload(nice)\n",
    "\n",
    "rng = np.random.default_rng(26893751)\n",
    "\n",
    "kw = {\n",
    "    'rng': rng,\n",
    "    'xlim': (0, 1e6),\n",
    "    'ylim': (0, 1e6),\n",
    "    'create_using': nx.DiGraph\n",
    "}\n",
    "\n",
    "atlas = nice.graph.nmu_graph(100, 3, **kw)\n",
    "\n",
    "for source, _adj in atlas._adj.items():\n",
    "    for target, edge in _adj.items():\n",
    "\n",
    "        edge['speed'] = rng.uniform(65, 65) * 1609 / 3600\n",
    "        edge['time'] = edge['distance'] / edge['speed']\n",
    "        edge['consumption'] = 500 * edge['distance']\n",
    "        edge['cost'] = edge['time']"
   ]
  },
  {
   "cell_type": "code",
   "execution_count": 29,
   "id": "fbd6f04f-85e5-4c95-a680-93a35305b079",
   "metadata": {},
   "outputs": [],
   "source": [
    "'''\n",
    "Selecting places and stations\n",
    "'''\n",
    "deep_reload(nice)\n",
    "\n",
    "n_places = 15\n",
    "n_stations = 45\n",
    "\n",
    "rng = np.random.default_rng(26589763514)\n",
    "\n",
    "places = list(rng.choice(atlas.nodes, replace = False, size = n_places))\n",
    "stations = list(rng.choice(\n",
    "    list(set(atlas.nodes) - set(places)), replace = False, size = n_stations\n",
    "))"
   ]
  },
  {
   "cell_type": "code",
   "execution_count": 31,
   "id": "f2bd481b-0e58-4abe-ae42-fcad7401c910",
   "metadata": {},
   "outputs": [],
   "source": [
    "'''\n",
    "Transforming Graph\n",
    "'''\n",
    "deep_reload(nice)\n",
    "\n",
    "conditions = [\n",
    "    lambda e: e['consumption'] <= 80 * 3.6e6,\n",
    "    lambda e: e['consumption'] >= 0 * 3.6e6,\n",
    "]\n",
    "\n",
    "kw = {\n",
    "    'fields': ['time', 'distance', 'consumption']\n",
    "}\n",
    "\n",
    "nodes = places + stations\n",
    "\n",
    "graph = nice.frp.transformed_graph(atlas, nodes, conditions, **kw)"
   ]
  },
  {
   "cell_type": "code",
   "execution_count": 7,
   "id": "5c11a995-b79b-4917-8d79-ac6cf27e03dc",
   "metadata": {},
   "outputs": [],
   "source": [
    "paths = nice.frp.get_paths(\n",
    "    graph, terminals = places, k = 10, weight = 'time',\n",
    ")"
   ]
  },
  {
   "cell_type": "code",
   "execution_count": 26,
   "id": "f88082d3-95d2-4b51-bc24-1a822b50fda1",
   "metadata": {},
   "outputs": [
    {
     "data": {
      "text/plain": [
       "(array([0.08108948, 0.19631286, 0.28062976, 0.34264907, 0.39079445,\n",
       "        0.42929044, 0.46098733, 0.48765621, 0.51075471, 0.53077168,\n",
       "        0.54835063, 0.5639172 , 0.57817411, 0.59101442, 0.60251129,\n",
       "        0.61313306, 0.62295592, 0.63209473, 0.64068829, 0.648461  ,\n",
       "        0.65560509, 0.66255819, 0.66926382, 0.67504651, 0.68106311,\n",
       "        0.68630631, 0.6916246 , 0.69640891, 0.70127895, 0.70551981,\n",
       "        0.71020481, 0.7138651 , 0.71794952, 0.72169438, 0.72510154,\n",
       "        0.72887459, 0.7320308 , 0.73508138, 0.73843235, 0.74138861,\n",
       "        0.74402309, 0.74689314, 0.75001597, 0.75221787, 0.75459668,\n",
       "        0.75717031, 0.75995825, 0.76188883, 0.76394369, 0.76615083,\n",
       "        0.76852413, 0.77067367, 0.77237861, 0.77419645, 0.77613664,\n",
       "        0.77820925, 0.78026076, 0.78170561, 0.7832362 , 0.78485902,\n",
       "        0.78658098, 0.78840943, 0.7902115 , 0.79144439, 0.79274281,\n",
       "        0.79411122, 0.79555435, 0.79707721, 0.79868508, 0.80022495,\n",
       "        0.80127157, 0.8023678 , 0.80351668, 0.80472141, 0.80598535,\n",
       "        0.80731202, 0.80870514, 0.81009641, 0.81097135, 0.81188302,\n",
       "        0.81283342, 0.81382467, 0.81485896, 0.81593859, 0.81706596,\n",
       "        0.81824359, 0.81947411, 0.82042148, 0.821162  , 0.82193008,\n",
       "        0.82272704, 0.82355428, 0.82441324, 0.82530543, 0.8262324 ,\n",
       "        0.82719578, 0.82819728, 0.82923864, 0.8301729 , 0.83077536]),\n",
       " 0.0006349206349206349)"
      ]
     },
     "execution_count": 26,
     "metadata": {},
     "output_type": "execute_result"
    }
   ],
   "source": [
    "deep_reload(nice)\n",
    "\n",
    "energy = 35 * 3.6e6\n",
    "power = 80e3\n",
    "m = 1 / (energy / power)\n",
    "\n",
    "queue = nice.queue.Queue(m = m)\n",
    "\n",
    "rho = queue.max_rho(1)\n",
    "rho, m"
   ]
  },
  {
   "cell_type": "code",
   "execution_count": 21,
   "id": "95d94a2e-3d89-4343-8579-c85a978cb578",
   "metadata": {},
   "outputs": [
    {
     "data": {
      "text/plain": [
       "((100, 100), (100,))"
      ]
     },
     "execution_count": 21,
     "metadata": {},
     "output_type": "execute_result"
    }
   ],
   "source": [
    "queue.waiting_times.shape, queue.c.shape"
   ]
  },
  {
   "cell_type": "code",
   "execution_count": 181,
   "id": "fffb781c-4289-495c-b2e9-09859c14b740",
   "metadata": {},
   "outputs": [],
   "source": [
    "'''\n",
    "Adding classes\n",
    "'''\n",
    "deep_reload(nice)\n",
    "\n",
    "rng = np.random.default_rng(26589763514)\n",
    "\n",
    "for place in places:\n",
    "\n",
    "    destinations = set(places) - set([place])\n",
    "    demands = rng.uniform(0, 1, size = len(destinations))\n",
    "    demands /= demands.sum()\n",
    "\n",
    "    graph._node[place]['penalty'] = {}\n",
    "    \n",
    "    path = nx.shortest_path(graph, source = place, weight = 'ac_time')\n",
    "    \n",
    "    for destination in destinations:\n",
    "\n",
    "        costs = nice.graph.path_cost(\n",
    "            graph, path[destination], fields = ['time']\n",
    "        )\n",
    "        \n",
    "        graph._node[place]['penalty'][destination] = costs['time'] * 200\n",
    "    \n",
    "    graph._node[place]['flows'] = {p: demands[i] for i, p in enumerate(destinations)}\n",
    "    graph._node[place]['_class'] = nice.optimization.Place\n",
    "\n",
    "energy = 35 * 3.6e6\n",
    "power = 80e3\n",
    "delay = 300\n",
    "m = 1 / (energy / power)\n",
    "\n",
    "queue = nice.queue.Queue(m = m)\n",
    "c = queue.c\n",
    "rho = queue.max_rho(delay)\n",
    "\n",
    "for station in stations:\n",
    "\n",
    "    graph._node[station]['power'] = 80e3\n",
    "    graph._node[station]['_class'] = nice.optimization.Station\n",
    "\n",
    "    graph._node[station]['volumes'] = rho * m * c\n",
    "    graph._node[station]['delay'] = delay\n",
    "    graph._node[station]['expenditures'] = c\n",
    "\n",
    "for source, _adj in graph._adj.items():\n",
    "    for target, edge in _adj.items():\n",
    "\n",
    "        edge['_class'] = nice.optimization.Edge\n",
    "\n",
    "for path in paths:\n",
    "\n",
    "    path['_class'] = nice.optimization.Path"
   ]
  }
 ],
 "metadata": {
  "kernelspec": {
   "display_name": "Python [conda env:base] *",
   "language": "python",
   "name": "conda-base-py"
  },
  "language_info": {
   "codemirror_mode": {
    "name": "ipython",
    "version": 3
   },
   "file_extension": ".py",
   "mimetype": "text/x-python",
   "name": "python",
   "nbconvert_exporter": "python",
   "pygments_lexer": "ipython3",
   "version": "3.12.7"
  }
 },
 "nbformat": 4,
 "nbformat_minor": 5
}
