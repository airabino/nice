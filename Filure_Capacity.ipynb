{
 "cells": [
  {
   "cell_type": "code",
   "execution_count": 1,
   "id": "89769254-d6c7-4daa-a736-0b06438ccf90",
   "metadata": {},
   "outputs": [],
   "source": [
    "import warnings\n",
    "warnings.filterwarnings(\"ignore\")\n",
    "\n",
    "import os\n",
    "import sys\n",
    "import time\n",
    "import json\n",
    "import numpy as np\n",
    "import pandas as pd\n",
    "import geopandas as gpd\n",
    "import pickle as pkl\n",
    "import networkx as nx\n",
    "import matplotlib.pyplot as plt\n",
    "import pyomo.environ as pe\n",
    "\n",
    "from scipy.stats import rv_histogram\n",
    "\n",
    "import nice\n",
    "from nice.reload import deep_reload"
   ]
  },
  {
   "cell_type": "code",
   "execution_count": 2,
   "id": "372deb4e-017c-4374-99eb-5ca093c8e29e",
   "metadata": {},
   "outputs": [],
   "source": [
    "'''\n",
    "Stations\n",
    "'''\n",
    "deep_reload(nice)\n",
    "\n",
    "rng = np.random.default_rng(26589763514)\n",
    "\n",
    "energy = 35 * 3.6e6\n",
    "power = 80e3\n",
    "m = 1 / (energy / power)\n",
    "rho = np.concatenate((np.linspace(0, .8, 2), np.linspace(.81, .99, 20)))\n",
    "c = np.arange(0, 21, 1)"
   ]
  },
  {
   "cell_type": "code",
   "execution_count": null,
   "id": "cbba195c-ee2c-4e09-b208-687600270a07",
   "metadata": {},
   "outputs": [],
   "source": []
  }
 ],
 "metadata": {
  "kernelspec": {
   "display_name": "Python [conda env:base] *",
   "language": "python",
   "name": "conda-base-py"
  },
  "language_info": {
   "codemirror_mode": {
    "name": "ipython",
    "version": 3
   },
   "file_extension": ".py",
   "mimetype": "text/x-python",
   "name": "python",
   "nbconvert_exporter": "python",
   "pygments_lexer": "ipython3",
   "version": "3.12.7"
  }
 },
 "nbformat": 4,
 "nbformat_minor": 5
}
