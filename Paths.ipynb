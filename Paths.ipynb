{
 "cells": [
  {
   "cell_type": "code",
   "execution_count": 1,
   "id": "7674f101-740a-4bb5-868c-6f5ebb2574e7",
   "metadata": {},
   "outputs": [],
   "source": [
    "import warnings\n",
    "warnings.filterwarnings(\"ignore\")\n",
    "\n",
    "import os\n",
    "import sys\n",
    "import time\n",
    "import json\n",
    "import numpy as np\n",
    "import pandas as pd\n",
    "import geopandas as gpd\n",
    "import pickle as pkl\n",
    "import networkx as nx\n",
    "import matplotlib.pyplot as plt\n",
    "import pyomo.environ as pe\n",
    "\n",
    "from scipy.stats import rv_histogram\n",
    "\n",
    "import nice\n",
    "from nice.reload import deep_reload"
   ]
  },
  {
   "cell_type": "code",
   "execution_count": 2,
   "id": "dd76100d-d54a-4d74-a410-abaea7b6ad68",
   "metadata": {},
   "outputs": [],
   "source": [
    "'''\n",
    "Loading\n",
    "'''\n",
    "\n",
    "# atlas = nice.graph.graph_from_json('Data/reduced_atlas.json')\n",
    "\n",
    "# graph_all = nice.graph.graph_from_json('Data/graph_100k.json')\n",
    "graph_ccs = nice.graph.graph_from_json('Data/graph_ccs_100k.json')\n",
    "# graph_nacs = nice.graph.graph_from_json('Data/graph_nacs_100k.json')"
   ]
  },
  {
   "cell_type": "code",
   "execution_count": 3,
   "id": "fd0d3509-0d6b-4c01-abca-7d2294c16376",
   "metadata": {},
   "outputs": [],
   "source": [
    "'''\n",
    "Selecting\n",
    "'''\n",
    "\n",
    "graph = graph_ccs\n",
    "\n",
    "for source, _adj in graph._adj.items():\n",
    "    for target, edge in _adj.items():\n",
    "\n",
    "        edge['cost'] = edge['time']\n",
    "\n",
    "places = [k for k, n in graph._node.items() if 'station' not in k]\n",
    "stations = [k for k, n in graph._node.items() if 'station' in k]"
   ]
  },
  {
   "cell_type": "code",
   "execution_count": 4,
   "id": "3cf80f71-0f47-456a-88d0-af8cd54fbd6f",
   "metadata": {},
   "outputs": [
    {
     "name": "stdout",
     "output_type": "stream",
     "text": [
      "\u001b[1m\u001b[38;5;34m\u001b[48;5;0m [-------------------->] 100.00%, 0.36 it/s, 30.90 s elapsed, 0.00 s remaining"
     ]
    }
   ],
   "source": [
    "'''\n",
    "Raw Paths\n",
    "'''\n",
    "deep_reload(nice)\n",
    "\n",
    "raw_paths = nice.graph.get_raw_paths(\n",
    "    graph, places[:10],\n",
    "    objective =  'distance',\n",
    "    min_edge_cost = 150e3,\n",
    ")"
   ]
  },
  {
   "cell_type": "code",
   "execution_count": 8,
   "id": "df77a341-dd8b-4966-9ab7-0293308d0fce",
   "metadata": {},
   "outputs": [
    {
     "data": {
      "text/plain": [
       "(538162, 562500)"
      ]
     },
     "execution_count": 8,
     "metadata": {},
     "output_type": "execute_result"
    }
   ],
   "source": [
    "len(raw_paths), len(places) ** 2 * 100"
   ]
  },
  {
   "cell_type": "code",
   "execution_count": 321,
   "id": "958459ad-6bd0-420a-8064-7f5cb8e62e69",
   "metadata": {},
   "outputs": [
    {
     "name": "stdout",
     "output_type": "stream",
     "text": [
      "48158\n"
     ]
    }
   ],
   "source": [
    "deep_reload(nice)\n",
    "\n",
    "sp = nx.algorithms.simple_paths._all_simple_edge_paths\n",
    "\n",
    "s = 'Sacramento, CA'\n",
    "t = 'Los Angeles, CA'\n",
    "t1 = 'Fresno, CA'\n",
    "\n",
    "terminals = list(set(places) - set([s]))\n",
    "\n",
    "lg = nice.graph.level_graph(\n",
    "    graph, s, objective = 'distance',\n",
    "    min_edge_cost = 150e3,\n",
    "    terminals = terminals,\n",
    ")\n",
    "\n",
    "print(lg.number_of_edges())\n",
    "\n",
    "asp = list(sp(lg, s, set(terminals), cutoff = 4))\n",
    "# asp1 = list(nx.all_simple_paths(lg, s, t1, cutoff = 4))"
   ]
  },
  {
   "cell_type": "code",
   "execution_count": 320,
   "id": "409634bf-0c5d-47e1-a2c9-68d6dbd69592",
   "metadata": {
    "scrolled": true
   },
   "outputs": [
    {
     "data": {
      "text/plain": [
       "388104"
      ]
     },
     "execution_count": 320,
     "metadata": {},
     "output_type": "execute_result"
    }
   ],
   "source": [
    "len(asp)"
   ]
  },
  {
   "cell_type": "code",
   "execution_count": 334,
   "id": "2f1b7be7-0893-434c-9422-049e46e0af2d",
   "metadata": {},
   "outputs": [
    {
     "name": "stdout",
     "output_type": "stream",
     "text": [
      "\u001b[1m\u001b[38;5;34m\u001b[48;5;0m [---------------->] 100.00%, 405020.88 it/s, 0.96 s elapsed, 0.00 s remaining"
     ]
    }
   ],
   "source": [
    "deep_reload(nice)\n",
    "\n",
    "def make_paths(graph, raw_paths, ac_power = 6600):\n",
    "\n",
    "    paths = []\n",
    "\n",
    "    for raw_path in nice.progress_bar.ProgressBar(raw_paths, freq = 1e4):\n",
    "\n",
    "        tail, head = raw_path[0]\n",
    "\n",
    "        path = {\n",
    "            'path': [raw_path[0][0]] + [e[1] for e in raw_path],\n",
    "            'cost_dc': graph._adj[tail][head]['time'],\n",
    "            'cost_ac': graph._adj[tail][head]['time'],\n",
    "        }\n",
    "\n",
    "        for tail, head in raw_path[1:]:\n",
    "\n",
    "            path['cost_dc'] += (\n",
    "                graph._adj[tail][head]['time'] +\n",
    "                graph._adj[tail][head]['energy'] /\n",
    "                (graph._node[tail]['power_kw'] * 1e3)\n",
    "            )\n",
    "\n",
    "            path['cost_ac'] += (\n",
    "                graph._adj[tail][head]['time'] +\n",
    "                graph._adj[tail][head]['energy'] / ac_power\n",
    "            )\n",
    "\n",
    "        paths.append(path)\n",
    "\n",
    "    return paths\n",
    "\n",
    "paths = make_paths(graph, asp)"
   ]
  },
  {
   "cell_type": "code",
   "execution_count": 12,
   "id": "406dfd16-feb7-4811-a609-95dada3ca565",
   "metadata": {},
   "outputs": [
    {
     "data": {
      "text/plain": [
       "[[('Sacramento, CA', 'San Diego, CA')],\n",
       " [('Sacramento, CA', 'Richmond, CA')],\n",
       " [('Sacramento, CA', 'Ontario, CA')],\n",
       " [('Sacramento, CA', 'El Cajon, CA')],\n",
       " [('Sacramento, CA', 'Oceanside, CA')],\n",
       " [('Sacramento, CA', 'Berkeley, CA')],\n",
       " [('Sacramento, CA', 'Fremont, CA')],\n",
       " [('Sacramento, CA', 'Carlsbad, CA')],\n",
       " [('Sacramento, CA', 'Fontana, CA')],\n",
       " [('Sacramento, CA', 'Rialto, CA')],\n",
       " [('Sacramento, CA', 'Murrieta, CA')],\n",
       " [('Sacramento, CA', 'Clovis, CA')],\n",
       " [('Sacramento, CA', 'Fresno, CA')],\n",
       " [('Sacramento, CA', 'Antioch, CA')],\n",
       " [('Sacramento, CA', 'Concord, CA')],\n",
       " [('Sacramento, CA', 'Salinas, CA')],\n",
       " [('Sacramento, CA', 'Santa Maria, CA')],\n",
       " [('Sacramento, CA', 'El Monte, CA')],\n",
       " [('Sacramento, CA', 'Pasadena, CA')],\n",
       " [('Sacramento, CA', 'Elk Grove, CA')]]"
      ]
     },
     "execution_count": 12,
     "metadata": {},
     "output_type": "execute_result"
    }
   ],
   "source": [
    "raw_paths[-20:]"
   ]
  }
 ],
 "metadata": {
  "kernelspec": {
   "display_name": "Python [conda env:base] *",
   "language": "python",
   "name": "conda-base-py"
  },
  "language_info": {
   "codemirror_mode": {
    "name": "ipython",
    "version": 3
   },
   "file_extension": ".py",
   "mimetype": "text/x-python",
   "name": "python",
   "nbconvert_exporter": "python",
   "pygments_lexer": "ipython3",
   "version": "3.12.7"
  }
 },
 "nbformat": 4,
 "nbformat_minor": 5
}
