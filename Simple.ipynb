{
 "cells": [
  {
   "cell_type": "code",
   "execution_count": 3,
   "id": "39810c05-2d42-4773-be1d-83c6512333b3",
   "metadata": {},
   "outputs": [],
   "source": [
    "import warnings\n",
    "warnings.filterwarnings(\"ignore\")\n",
    "\n",
    "import os\n",
    "import sys\n",
    "import time\n",
    "import json\n",
    "import numpy as np\n",
    "import pandas as pd\n",
    "import geopandas as gpd\n",
    "import pickle as pkl\n",
    "import networkx as nx\n",
    "import matplotlib.pyplot as plt\n",
    "\n",
    "from scipy.stats import rv_histogram\n",
    "\n",
    "import nice\n",
    "from nice.reload import deep_reload"
   ]
  },
  {
   "cell_type": "code",
   "execution_count": 4,
   "id": "75851d0d-0069-4487-bc6a-c3459720a4e9",
   "metadata": {},
   "outputs": [],
   "source": [
    "'''\n",
    "Creating an atlas\n",
    "'''\n",
    "deep_reload(nice)\n",
    "\n",
    "rng = np.random.default_rng(26893751)\n",
    "\n",
    "scale = (.5e6, 0)\n",
    "\n",
    "nodes = [\n",
    "    ('A', {'x': 0 * scale[0], 'y': 0 * scale[1], 'population': 1}),\n",
    "    ('S0', {'x': .25 * scale[0], 'y': .25 * scale[1]}),\n",
    "    ('S1', {'x': .5 * scale[0], 'y': .5 * scale[1]}),\n",
    "    ('S2', {'x': .75 * scale[0], 'y': .75 * scale[1]}),\n",
    "    ('B', {'x': 1 * scale[0], 'y': 1 * scale[1], 'population': 1}),\n",
    "]\n",
    "\n",
    "d = np.sqrt((.25 * scale[0]) ** 2 + (.25 * scale[1]) ** 2)\n",
    "\n",
    "edges = [\n",
    "    ('A', 'S0', {'distance': d}),\n",
    "    ('S0', 'S1', {'distance': d}),\n",
    "    ('S1', 'S2', {'distance': d}),\n",
    "    ('S2', 'B', {'distance': d}),\n",
    "]\n",
    "\n",
    "atlas = nx.Graph()\n",
    "atlas.add_nodes_from(nodes)\n",
    "atlas.add_edges_from(edges)\n",
    "atlas = nx.DiGraph(atlas)\n",
    "\n",
    "for source, _adj in atlas._adj.items():\n",
    "    for target, edge in _adj.items():\n",
    "\n",
    "        speed = rng.uniform(65, 65) * 1609 / 3600\n",
    "        edge['time'] = edge['distance'] / speed\n",
    "        edge['energy'] = 500 * edge['distance']\n",
    "        edge['cost'] = edge['time']\n",
    "\n",
    "'''\n",
    "Selecting places and stations\n",
    "'''\n",
    "\n",
    "places = ['A', 'B']\n",
    "stations = ['S0', 'S1', 'S2']"
   ]
  },
  {
   "cell_type": "code",
   "execution_count": 5,
   "id": "8c501aea-9e1a-4d43-ab0c-f930ae3848b6",
   "metadata": {},
   "outputs": [],
   "source": [
    "'''\n",
    "Creating a Vehicle\n",
    "'''\n",
    "deep_reload(nice)\n",
    "\n",
    "kw = {\n",
    "    'capacity': 45 * 3.6e6,\n",
    "    'fields': ['time', 'distance', 'energy']\n",
    "}\n",
    "\n",
    "vehicle = nice.optimization.Vehicle(**kw)\n",
    "\n",
    "graph = vehicle.transform(atlas, places + stations)"
   ]
  },
  {
   "cell_type": "code",
   "execution_count": 6,
   "id": "aa38f186-f417-40ff-a505-76d21cc2fdc3",
   "metadata": {},
   "outputs": [
    {
     "name": "stdout",
     "output_type": "stream",
     "text": [
      "\u001b[1m\u001b[38;5;34m\u001b[48;5;0m [------------>] (2/2) 100.00%, 1737.49 it/s, 0.00 s elapsed, 0.00 s remaining"
     ]
    }
   ],
   "source": [
    "deep_reload(nice)\n",
    "\n",
    "paths = nice.optimization.get_paths(\n",
    "    graph, terminals = places, k = 25, weight = 'time',\n",
    ")"
   ]
  },
  {
   "cell_type": "code",
   "execution_count": 7,
   "id": "e325a3c2-de2e-4ef4-9b76-4b45d4559c4e",
   "metadata": {},
   "outputs": [
    {
     "data": {
      "text/plain": [
       "[['A', 'S1', 'B'],\n",
       " ['A', 'S0', 'S1', 'B'],\n",
       " ['A', 'S1', 'S2', 'B'],\n",
       " ['A', 'S0', 'S2', 'B'],\n",
       " ['A', 'S0', 'S1', 'S2', 'B'],\n",
       " ['B', 'S1', 'A'],\n",
       " ['B', 'S2', 'S0', 'A'],\n",
       " ['B', 'S1', 'S0', 'A'],\n",
       " ['B', 'S2', 'S1', 'A'],\n",
       " ['B', 'S2', 'S1', 'S0', 'A']]"
      ]
     },
     "execution_count": 7,
     "metadata": {},
     "output_type": "execute_result"
    }
   ],
   "source": [
    "[p['path'] for p in paths]"
   ]
  },
  {
   "cell_type": "code",
   "execution_count": 12,
   "id": "192d99ac-2f76-4f01-b68c-f1ac5a7ba0dd",
   "metadata": {},
   "outputs": [],
   "source": [
    "'''\n",
    "Places\n",
    "'''\n",
    "deep_reload(nice)\n",
    "\n",
    "p = [ 0.00890009, -0.00686443]\n",
    "f = lambda d: p[0] * np.exp(p[1] * d)\n",
    "\n",
    "kw = {\n",
    "    'routing_weight': 'time',\n",
    "    'production': 'population',\n",
    "    'friction_function': lambda x: 1,\n",
    "    'remove_function': lambda x: nice.demand.within_range(x, 500, 45 * 3.6e6),\n",
    "}\n",
    "\n",
    "graph = nice.demand.demand(graph, places, **kw)"
   ]
  },
  {
   "cell_type": "code",
   "execution_count": 13,
   "id": "1e5a31f7-f349-4bc2-ad3a-1ba02a8573c5",
   "metadata": {},
   "outputs": [
    {
     "data": {
      "text/plain": [
       "{'x': 0.0,\n",
       " 'y': 0,\n",
       " 'population': 1,\n",
       " 'cost': 17210.88110149639,\n",
       " 'flows': {'B': 0.5},\n",
       " 'free_flow': {'B': {'time': 17210.88110149639, 'distance': 500000.0}},\n",
       " 'mode_switch': {'B': 55089.668980284274}}"
      ]
     },
     "execution_count": 13,
     "metadata": {},
     "output_type": "execute_result"
    }
   ],
   "source": [
    "graph._node['A']"
   ]
  },
  {
   "cell_type": "code",
   "execution_count": 15,
   "id": "036ff12e-d682-4380-914e-acda74951122",
   "metadata": {},
   "outputs": [
    {
     "data": {
      "text/plain": [
       "(4.780800305971219, 15.302685827856743)"
      ]
     },
     "execution_count": 15,
     "metadata": {},
     "output_type": "execute_result"
    }
   ],
   "source": [
    "min_cost = 0\n",
    "\n",
    "for source, node in graph._node.items():\n",
    "    if source in places:\n",
    "        for target, cost in node['free_flow'].items():\n",
    "\n",
    "            min_cost += cost['time'] * node['flows'][target]\n",
    "\n",
    "max_cost = 0\n",
    "\n",
    "for source, node in graph._node.items():\n",
    "    if source in places:\n",
    "        for target, cost in node['mode_switch'].items():\n",
    "\n",
    "            max_cost += cost * node['flows'][target]\n",
    "\n",
    "min_cost / 3600, max_cost / 3600"
   ]
  },
  {
   "cell_type": "code",
   "execution_count": 16,
   "id": "a4c65a47-5c0b-48ac-a854-aab3ad365521",
   "metadata": {},
   "outputs": [],
   "source": [
    "'''\n",
    "Stations\n",
    "'''\n",
    "deep_reload(nice)\n",
    "\n",
    "rng = np.random.default_rng(26589763514)\n",
    "\n",
    "energy = 35 * 3.6e6\n",
    "power = 80e3\n",
    "m = 1 / (energy / power)\n",
    "rho = np.concatenate((np.linspace(0, .8, 2), np.linspace(.81, .99, 20)))\n",
    "c = np.arange(0, 31, 1)\n",
    "\n",
    "queue = nice.queue.Queue(m = m)\n",
    "volumes = np.array([rho * m * size for size in c])\n",
    "delays =  np.array(\n",
    "    [queue.interpolate(rho, size)[0] * rho * m * size for size in c]\n",
    ")\n",
    "\n",
    "for station in stations:\n",
    "\n",
    "    graph._node[station]['power'] = power\n",
    "    graph._node[station]['volumes'] = np.atleast_2d(volumes)\n",
    "    graph._node[station]['delays'] = np.atleast_2d(delays * volumes)\n",
    "    graph._node[station]['expenditures'] = c"
   ]
  },
  {
   "cell_type": "code",
   "execution_count": 31,
   "id": "41ca17f6-752f-4b4b-accf-e2816c650994",
   "metadata": {},
   "outputs": [],
   "source": [
    "'''\n",
    "Adding charging information at stations\n",
    "'''\n",
    "deep_reload(nice)\n",
    "\n",
    "rng = np.random.default_rng(26589763514)\n",
    "\n",
    "energy = 35 * 3.6e6\n",
    "power = 80e3\n",
    "m = 1 / (energy / power)\n",
    "rho = np.concatenate((np.linspace(0, .8, 2), np.linspace(.81, .99, 20)))\n",
    "\n",
    "for station in stations:\n",
    "\n",
    "    node = graph._node[station]\n",
    "    m = 1 / (energy / power)\n",
    "    n = 10\n",
    "    lower_bound = 10\n",
    "    upper_bound = 10\n",
    "    c = list(range(lower_bound, upper_bound + 1))\n",
    "    queue = nice.queue.Queue(m = m, rho = rho, c = c)\n",
    "    \n",
    "    volumes = np.array([rho * m * size for size in c])\n",
    "    delays =  np.array(\n",
    "        [queue.interpolate(rho, size)[0] * rho * m * size for size in c]\n",
    "    )\n",
    "\n",
    "    counts = np.array([c for c in c])\n",
    "    expenditure = np.array([c - n for c in c])\n",
    "    expenditure[expenditure > 0] = expenditure[expenditure > 0] * 1.25\n",
    "\n",
    "    graph._node[station]['power'] = power\n",
    "    graph._node[station]['volumes'] = np.atleast_2d(volumes)\n",
    "    graph._node[station]['delays'] = np.atleast_2d(delays * volumes)\n",
    "    graph._node[station]['counts'] = counts\n",
    "    graph._node[station]['expenditures'] = expenditure\n",
    "\n",
    "    # print(graph._node[station]['expenditures'])"
   ]
  },
  {
   "cell_type": "code",
   "execution_count": 32,
   "id": "51adce07-62e6-48d3-b350-99687cf56359",
   "metadata": {},
   "outputs": [],
   "source": [
    "'''\n",
    "Adding classes\n",
    "'''\n",
    "deep_reload(nice)\n",
    "\n",
    "for place in places:\n",
    "\n",
    "    graph._node[place]['_class'] = nice.optimization.Place\n",
    "\n",
    "for station in stations:\n",
    "\n",
    "    graph._node[station]['_class'] = nice.optimization.Station\n",
    "\n",
    "for source, _adj in graph._adj.items():\n",
    "    for target, edge in _adj.items():\n",
    "\n",
    "        edge['cost'] = edge['time']\n",
    "        edge['_class'] = nice.optimization.Edge\n",
    "\n",
    "for path in paths:\n",
    "    \n",
    "    path['_class'] = nice.optimization.Path"
   ]
  },
  {
   "cell_type": "code",
   "execution_count": 33,
   "id": "d6131fa5-eb81-44cb-bee6-da0dc8f13747",
   "metadata": {
    "scrolled": true
   },
   "outputs": [
    {
     "name": "stdout",
     "output_type": "stream",
     "text": [
      "Objects Built: 0.000946044921875\n",
      "Sets Built: 0.0008413791656494141\n",
      "Parameters Built: 0.0012137889862060547\n",
      "Variables Built: 0.0011107921600341797\n",
      "Constraints Built: 0.0013167858123779297\n",
      "Expenditure Built: 5.340576171875e-05\n",
      "Objective Built: 0.00016736984252929688\n"
     ]
    }
   ],
   "source": [
    "'''\n",
    "Building the network\n",
    "'''\n",
    "deep_reload(nice)\n",
    "\n",
    "kw = {\n",
    "    'verbose': True,\n",
    "}\n",
    "\n",
    "network = nice.optimization.Network(**kw).from_graph(graph, paths)\n",
    "\n",
    "network.build()"
   ]
  },
  {
   "cell_type": "code",
   "execution_count": 36,
   "id": "544c75b4-0c84-45fb-8eef-6c6a7a9cbc25",
   "metadata": {},
   "outputs": [
    {
     "name": "stdout",
     "output_type": "stream",
     "text": [
      "Problem Solved: 0.016292333602905273\n",
      "Results Collected: 0.0003783702850341797\n"
     ]
    }
   ],
   "source": [
    "'''\n",
    "Solving the model\n",
    "'''\n",
    "deep_reload(nice)\n",
    "\n",
    "kw = {\n",
    "    'solver': {\n",
    "        '_name': 'cbc',\n",
    "        # '_name': 'appsi_highs',\n",
    "        'time_limit': 10 * 6,\n",
    "        # 'sec': 10,\n",
    "        # 'ratio': .000001,\n",
    "    },\n",
    "}\n",
    "\n",
    "network.model.scale = 1e4 / 3600\n",
    "network.model.expenditure = 0\n",
    "network.model.expenditure_cost = 0\n",
    "network.solve(**kw)\n",
    "solution = network.solution\n",
    "solution = nice.optimization.solution_atlas(\n",
    "    network.solution, atlas, fields = ['volume']\n",
    ")"
   ]
  },
  {
   "cell_type": "code",
   "execution_count": 37,
   "id": "6ba4664e-608d-4aef-9fb4-6d855cde1d02",
   "metadata": {},
   "outputs": [
    {
     "data": {
      "text/plain": [
       "{'x': 250000.0,\n",
       " 'y': 0.0,\n",
       " 'cost': 8605.440550748195,\n",
       " 'power': 80000.0,\n",
       " 'volumes': array([[0.        , 0.00507937, 0.00514286, 0.00520301, 0.00526316,\n",
       "         0.00532331, 0.00538346, 0.00544361, 0.00550376, 0.00556391,\n",
       "         0.00562406, 0.00568421, 0.00574436, 0.00580451, 0.00586466,\n",
       "         0.00592481, 0.00598496, 0.00604511, 0.00610526, 0.00616541,\n",
       "         0.00622556, 0.00628571]]),\n",
       " 'delays': array([[0.00000000e+00, 1.36068792e-02, 1.74322711e-02, 2.20998282e-02,\n",
       "         2.81038129e-02, 3.58745228e-02, 4.60047977e-02, 5.93238113e-02,\n",
       "         7.70114251e-02, 1.00780087e-01, 1.33172913e-01, 1.78069244e-01,\n",
       "         2.41577049e-01, 3.33684386e-01, 4.71493353e-01, 6.86005793e-01,\n",
       "         1.03764614e+00, 1.65595865e+00, 2.85758007e+00, 5.58124050e+00,\n",
       "         1.36515654e+01, 5.72194095e+01]]),\n",
       " 'expenditures': array([0]),\n",
       " 'counts': array([10]),\n",
       " 'size': 1,\n",
       " 'usage': [1.0,\n",
       "  1.0,\n",
       "  1.0,\n",
       "  1.0,\n",
       "  1.0,\n",
       "  1.0,\n",
       "  1.0,\n",
       "  1.0,\n",
       "  1.0,\n",
       "  1.0,\n",
       "  1.0,\n",
       "  1.0,\n",
       "  1.0,\n",
       "  1.0,\n",
       "  1.0,\n",
       "  1.0,\n",
       "  1.0,\n",
       "  1.0,\n",
       "  0.0,\n",
       "  0.0,\n",
       "  0.0],\n",
       " 'volume': 0.0061052632,\n",
       " 'delay': 2.8575801,\n",
       " 'utilization': 0.8571428571428571,\n",
       " 'selection': 10}"
      ]
     },
     "execution_count": 37,
     "metadata": {},
     "output_type": "execute_result"
    }
   ],
   "source": [
    "solution._node['S1']"
   ]
  },
  {
   "cell_type": "code",
   "execution_count": 28,
   "id": "0fc5b94f-0e61-4738-b485-90cdcd063511",
   "metadata": {},
   "outputs": [
    {
     "data": {
      "text/plain": [
       "4.780980116817622"
      ]
     },
     "execution_count": 28,
     "metadata": {},
     "output_type": "execute_result"
    }
   ],
   "source": [
    "import pyomo.environ as pe\n",
    "\n",
    "pe.value(network.model.objective) / pe.value(network.model.scale) / 3600"
   ]
  },
  {
   "cell_type": "code",
   "execution_count": 29,
   "id": "f85db428-8d9c-46ce-bf02-fefc91848140",
   "metadata": {},
   "outputs": [
    {
     "data": {
      "text/plain": [
       "((500000.0, 0), 0.0)"
      ]
     },
     "execution_count": 29,
     "metadata": {},
     "output_type": "execute_result"
    }
   ],
   "source": [
    "num = sum(\n",
    "    [n.get('mode_switch', 0) for n in solution._node.values()]\n",
    ")\n",
    "\n",
    "den = sum(\n",
    "    [n.get('total', 0) for n in solution._node.values()]\n",
    ")\n",
    "\n",
    "ratio = np.nan_to_num(num / den)\n",
    "\n",
    "scale, ratio"
   ]
  },
  {
   "cell_type": "code",
   "execution_count": 24,
   "id": "fde48f32-ec8d-46cc-820b-0dc0d92cb9b6",
   "metadata": {},
   "outputs": [
    {
     "data": {
      "image/png": "[encoded data removed]",
      "text/plain": [
       "<Figure size 800x600 with 1 Axes>"
      ]
     },
     "metadata": {},
     "output_type": "display_data"
    }
   ],
   "source": [
    "deep_reload(nice)\n",
    "\n",
    "fig, ax = plt.subplots(figsize = (8, 6))\n",
    "\n",
    "for source, node in solution._node.items():\n",
    "\n",
    "    node['volume_h'] = node.get('volume', 0) * 3600\n",
    "    node['optimal_ports'] = node.get('counts', 0)\n",
    "    node['label'] = source\n",
    "    # node['optimal_ports'] = node.get('port_count', 0)\n",
    "\n",
    "kw = {\n",
    "    'nodes': {\n",
    "        'selection': stations,\n",
    "        'plot': {\n",
    "            's': 700,\n",
    "            'lw': 2,\n",
    "            'zorder': 2,\n",
    "            'ec': '#82B366',\n",
    "            'fc': '#D5E8D4',\n",
    "        },\n",
    "    },\n",
    "}\n",
    "    \n",
    "sm = nice.plot.plot_graph(solution, ax = ax, **kw)\n",
    "\n",
    "kw = {\n",
    "    'nodes': {\n",
    "        'selection': places,\n",
    "        'plot': {\n",
    "            's': 700,\n",
    "            'zorder': 2,\n",
    "            'lw': 2,\n",
    "            'ec': '#9673A6',\n",
    "            'fc': '#E1D5E7',\n",
    "        },\n",
    "    },\n",
    "}\n",
    "    \n",
    "sm = nice.plot.plot_graph(solution, ax = ax, **kw)\n",
    "\n",
    "kw = {\n",
    "    'edges': {\n",
    "        'plot': {\n",
    "            'lw': 1,\n",
    "            'color': 'k',\n",
    "            'alpha': 1,\n",
    "            'zorder': 0,\n",
    "        },\n",
    "    },\n",
    "}\n",
    "    \n",
    "_ = nice.plot.plot_graph(atlas, ax = ax, **kw)\n",
    "\n",
    "kw = {\n",
    "    'selection': stations,\n",
    "    'plot': {\n",
    "        'horizontalalignment': 'center',\n",
    "        'verticalalignment': 'center',\n",
    "        'fontstyle': 'italic',\n",
    "        'fontweight': 'roman',\n",
    "        'fontfamily': 'monospace',\n",
    "        'fontsize': 'large',\n",
    "    },\n",
    "    'field': 'selection',\n",
    "}\n",
    "\n",
    "_ = nice.plot.plot_labels(solution, ax = ax, **kw)\n",
    "\n",
    "kw = {\n",
    "    'selection': places,\n",
    "    'plot': {\n",
    "        'horizontalalignment': 'center',\n",
    "        'verticalalignment': 'center',\n",
    "        'fontstyle': 'italic',\n",
    "        'fontweight': 'roman',\n",
    "        'fontfamily': 'monospace',\n",
    "        'fontsize': 'large',\n",
    "    },\n",
    "    'field': 'label',\n",
    "}\n",
    "\n",
    "_ = nice.plot.plot_labels(solution, ax = ax, **kw)\n",
    "\n",
    "kw = {\n",
    "    'facecolor': 'white',\n",
    "    'ylim': (-50e3, 50e3),\n",
    "    'xticks': [],\n",
    "    'yticks': [],\n",
    "}\n",
    "\n",
    "ax.set(**kw)\n",
    "\n",
    "kw = {\n",
    "    'ls': 'dashed',\n",
    "}\n",
    "\n",
    "# ax.grid(**kw)\n",
    "\n",
    "ax.set_aspect('equal')"
   ]
  },
  {
   "cell_type": "code",
   "execution_count": null,
   "id": "88f8075f-17ea-4c68-9f32-573c296cf614",
   "metadata": {},
   "outputs": [],
   "source": []
  },
  {
   "cell_type": "code",
   "execution_count": 95,
   "id": "4d791f69-d28b-436e-8490-1b76ca841bba",
   "metadata": {},
   "outputs": [
    {
     "name": "stdout",
     "output_type": "stream",
     "text": [
      "\u001b[1m\u001b[38;5;34m\u001b[48;5;0m [---------->] (100/100) 100.00%, 1.76 it/s, 57.41 s elapsed, 0.00 s remaining"
     ]
    }
   ],
   "source": [
    "scales = np.arange(1e0, 1e3, 1e1) / 3600\n",
    "costs = []\n",
    "ratios = []\n",
    "\n",
    "k = 0\n",
    "\n",
    "for scale in nice.progress_bar.ProgressBar(scales):\n",
    "\n",
    "    kw = {\n",
    "        'verbose': False,\n",
    "        'solver': {\n",
    "            '_name': 'appsi_highs',\n",
    "            'time_limit': 10 * 6,\n",
    "        },\n",
    "    }\n",
    "    \n",
    "    network.model.scale = scale\n",
    "    network.solve(**kw)\n",
    "    solution = network.solution\n",
    "\n",
    "    num = sum(\n",
    "        [n.get('direct', 0) for n in solution._node.values()]\n",
    "    )\n",
    "    \n",
    "    den = sum(\n",
    "        [n.get('total', 0) for n in solution._node.values()]\n",
    "    )\n",
    "    \n",
    "    ratio = np.nan_to_num(num / den)\n",
    "\n",
    "    ratios.append(ratio)\n",
    "    costs.append(network.objective_value)\n",
    "\n",
    "    k += 1"
   ]
  },
  {
   "cell_type": "code",
   "execution_count": 96,
   "id": "02a0b402-94b5-4507-b440-7701f0bf3c03",
   "metadata": {},
   "outputs": [
    {
     "data": {
      "text/plain": [
       "[<matplotlib.lines.Line2D at 0x7f653d063bc0>]"
      ]
     },
     "execution_count": 96,
     "metadata": {},
     "output_type": "execute_result"
    },
    {
     "data": {
      "image/png": "[encoded data removed]",
      "text/plain": [
       "<Figure size 640x480 with 1 Axes>"
      ]
     },
     "metadata": {},
     "output_type": "display_data"
    }
   ],
   "source": [
    "plt.plot(scales, costs / scales / 3600)"
   ]
  }
 ],
 "metadata": {
  "kernelspec": {
   "display_name": "Python [conda env:base] *",
   "language": "python",
   "name": "conda-base-py"
  },
  "language_info": {
   "codemirror_mode": {
    "name": "ipython",
    "version": 3
   },
   "file_extension": ".py",
   "mimetype": "text/x-python",
   "name": "python",
   "nbconvert_exporter": "python",
   "pygments_lexer": "ipython3",
   "version": "3.12.7"
  }
 },
 "nbformat": 4,
 "nbformat_minor": 5
}
