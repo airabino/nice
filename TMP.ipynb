{
 "cells": [
  {
   "cell_type": "code",
   "execution_count": 1,
   "id": "6b9da1eb-63d1-4010-97f6-ce490643b986",
   "metadata": {},
   "outputs": [],
   "source": [
    "import warnings\n",
    "warnings.filterwarnings(\"ignore\")\n",
    "\n",
    "import os\n",
    "import sys\n",
    "import time\n",
    "import json\n",
    "import numpy as np\n",
    "import pandas as pd\n",
    "import geopandas as gpd\n",
    "import pickle as pkl\n",
    "import networkx as nx\n",
    "import matplotlib.pyplot as plt\n",
    "\n",
    "from scipy.stats import rv_histogram\n",
    "\n",
    "import nice\n",
    "from nice.reload import deep_reload"
   ]
  },
  {
   "cell_type": "code",
   "execution_count": null,
   "id": "f31807b0-1202-4f36-9940-cbddfdd55c1f",
   "metadata": {},
   "outputs": [],
   "source": [
    "'''\n",
    "Creating an atlas\n",
    "'''\n",
    "deep_reload(nice)\n",
    "\n",
    "rng = np.random.default_rng(26893751)\n",
    "\n",
    "kw = {\n",
    "    'rng': rng,\n",
    "    'xlim': (0, 1e6),\n",
    "    'ylim': (0, 1e6),\n",
    "    'create_using': nx.DiGraph\n",
    "}\n",
    "\n",
    "atlas = nice.graph.nmu_graph(100, 3, **kw)\n",
    "\n",
    "for source, _adj in atlas._adj.items():\n",
    "\n",
    "    atlas._node[source]['population'] = 10 ** rng.uniform(2, 6) / 1e6\n",
    "    \n",
    "    for target, edge in _adj.items():\n",
    "\n",
    "        speed = rng.uniform(65, 65) * 1609 / 3600\n",
    "        edge['time'] = edge['distance'] / speed\n",
    "        edge['energy'] = 500 * edge['distance']\n",
    "        edge['ac_time'] = edge['time'] + edge['energy'] / 6.6e3\n",
    "\n",
    "'''\n",
    "Selecting places and stations\n",
    "'''\n",
    "deep_reload(nice)\n",
    "\n",
    "n_places = 15\n",
    "n_stations = 45\n",
    "\n",
    "rng = np.random.default_rng(26589763514)\n",
    "\n",
    "places = list(\n",
    "    rng.choice(atlas.nodes, replace = False, size = n_places)\n",
    ")\n",
    "\n",
    "stations = list(\n",
    "    rng.choice(\n",
    "        list(set(atlas.nodes) - set(places)), replace = False, size = n_stations\n",
    "    )\n",
    ")"
   ]
  },
  {
   "cell_type": "code",
   "execution_count": 2,
   "id": "1f90306b-a6da-47b1-8edd-1fbb71036433",
   "metadata": {},
   "outputs": [],
   "source": [
    "'''\n",
    "Creating an atlas\n",
    "'''\n",
    "deep_reload(nice)\n",
    "\n",
    "rng = np.random.default_rng(26893751)\n",
    "\n",
    "scale = .5e6\n",
    "\n",
    "nodes = [\n",
    "    (0, {'x': 0 * scale, 'y': 0, 'population': 1}),\n",
    "    (1, {'x': .25 * scale, 'y': .25 * scale}),\n",
    "    (2, {'x': .5 * scale, 'y': .5 * scale}),\n",
    "    (3, {'x': .75 * scale, 'y': .75 * scale}),\n",
    "    (4, {'x': 1 * scale, 'y': 1 * scale, 'population': 1}),\n",
    "]\n",
    "\n",
    "d = np.sqrt(.25 ** 2 + .25 ** 2) * scale\n",
    "\n",
    "edges = [\n",
    "    (0, 1, {'distance': d}),\n",
    "    (1, 2, {'distance': d}),\n",
    "    (2, 3, {'distance': d}),\n",
    "    (3, 4, {'distance': d}),\n",
    "]\n",
    "\n",
    "atlas = nx.Graph()\n",
    "atlas.add_nodes_from(nodes)\n",
    "atlas.add_edges_from(edges)\n",
    "atlas = nx.DiGraph(atlas)\n",
    "\n",
    "for source, _adj in atlas._adj.items():\n",
    "    for target, edge in _adj.items():\n",
    "\n",
    "        speed = rng.uniform(65, 65) * 1609 / 3600\n",
    "        edge['time'] = edge['distance'] / speed\n",
    "        edge['energy'] = 500 * edge['distance']\n",
    "\n",
    "'''\n",
    "Selecting places and stations\n",
    "'''\n",
    "\n",
    "places = [0, 4]\n",
    "stations = [1, 2, 3]"
   ]
  },
  {
   "cell_type": "code",
   "execution_count": 31,
   "id": "60e14ea9-ed79-4791-98ae-3666447e521e",
   "metadata": {},
   "outputs": [],
   "source": [
    "'''\n",
    "Creating a Vehicle\n",
    "'''\n",
    "deep_reload(nice)\n",
    "\n",
    "kw = {\n",
    "    'capacity': 75 * 3.6e6,\n",
    "    'fields': ['time', 'distance', 'energy']\n",
    "}\n",
    "\n",
    "vehicle = nice.optimization.Vehicle(**kw)\n",
    "\n",
    "graph = vehicle.transform(atlas, places + stations)"
   ]
  },
  {
   "cell_type": "code",
   "execution_count": 32,
   "id": "0faadc0e-a1f0-4d85-9cf3-a2cdb15ebe32",
   "metadata": {},
   "outputs": [
    {
     "name": "stdout",
     "output_type": "stream",
     "text": [
      "\u001b[1m\u001b[38;5;34m\u001b[48;5;0m [------------>] (2/2) 100.00%, 2407.75 it/s, 0.00 s elapsed, 0.00 s remaining"
     ]
    }
   ],
   "source": [
    "deep_reload(nice)\n",
    "\n",
    "paths = nice.optimization.get_paths(\n",
    "    graph, terminals = places, k = 25, weight = 'time',\n",
    ")"
   ]
  },
  {
   "cell_type": "code",
   "execution_count": 33,
   "id": "4278cd53-1e57-4ffe-8053-fd66f87ccd30",
   "metadata": {},
   "outputs": [
    {
     "data": {
      "text/plain": [
       "[{'origin': 0, 'destination': 4, 'index': 0, 'path': [0, 1, 4]},\n",
       " {'origin': 0, 'destination': 4, 'index': 1, 'path': [0, 2, 4]},\n",
       " {'origin': 0, 'destination': 4, 'index': 2, 'path': [0, 1, 2, 4]},\n",
       " {'origin': 0, 'destination': 4, 'index': 3, 'path': [0, 3, 4]},\n",
       " {'origin': 0, 'destination': 4, 'index': 4, 'path': [0, 2, 3, 4]},\n",
       " {'origin': 0, 'destination': 4, 'index': 5, 'path': [0, 1, 3, 4]},\n",
       " {'origin': 0, 'destination': 4, 'index': 6, 'path': [0, 1, 2, 3, 4]},\n",
       " {'origin': 4, 'destination': 0, 'index': 0, 'path': [4, 1, 0]},\n",
       " {'origin': 4, 'destination': 0, 'index': 1, 'path': [4, 2, 0]},\n",
       " {'origin': 4, 'destination': 0, 'index': 2, 'path': [4, 3, 0]},\n",
       " {'origin': 4, 'destination': 0, 'index': 3, 'path': [4, 2, 1, 0]},\n",
       " {'origin': 4, 'destination': 0, 'index': 4, 'path': [4, 3, 1, 0]},\n",
       " {'origin': 4, 'destination': 0, 'index': 5, 'path': [4, 3, 2, 0]},\n",
       " {'origin': 4, 'destination': 0, 'index': 6, 'path': [4, 3, 2, 1, 0]}]"
      ]
     },
     "execution_count": 33,
     "metadata": {},
     "output_type": "execute_result"
    }
   ],
   "source": [
    "paths"
   ]
  },
  {
   "cell_type": "code",
   "execution_count": 34,
   "id": "47db9816-8aab-4dc0-945c-5536c2047cff",
   "metadata": {},
   "outputs": [],
   "source": [
    "'''\n",
    "Places\n",
    "'''\n",
    "deep_reload(nice)\n",
    "\n",
    "p = [ 0.00890009, -0.00686443]\n",
    "f = lambda d: p[0] * np.exp(p[1] * d)\n",
    "\n",
    "kw = {\n",
    "    'routing_weight': 'time',\n",
    "    'production': 'population',\n",
    "    # 'friction_function': lambda x: 1,\n",
    "}\n",
    "\n",
    "graph = nice.demand.demand(graph, places, **kw)"
   ]
  },
  {
   "cell_type": "code",
   "execution_count": 35,
   "id": "ed2f6f67-24ed-47f0-ac3d-e8746ee8a070",
   "metadata": {},
   "outputs": [
    {
     "data": {
      "text/plain": [
       "{0: {'x': 0.0,\n",
       "  'y': 0,\n",
       "  'population': 1,\n",
       "  'cost': 24339.861474126992,\n",
       "  'flows': {4: 0.5},\n",
       "  'direct': {4: 24339.861474126992}},\n",
       " 4: {'x': 500000.0,\n",
       "  'y': 500000.0,\n",
       "  'population': 1,\n",
       "  'cost': 0,\n",
       "  'flows': {0: 0.5},\n",
       "  'direct': {0: 24339.861474126992}},\n",
       " 1: {'x': 125000.0, 'y': 125000.0, 'cost': 18254.896105595246},\n",
       " 2: {'x': 250000.0, 'y': 250000.0, 'cost': 12169.930737063496},\n",
       " 3: {'x': 375000.0, 'y': 375000.0, 'cost': 6084.965368531748}}"
      ]
     },
     "execution_count": 35,
     "metadata": {},
     "output_type": "execute_result"
    }
   ],
   "source": [
    "graph._node"
   ]
  },
  {
   "cell_type": "code",
   "execution_count": 54,
   "id": "b3fbe34b-48f0-4d1b-b4ae-34857177ddb6",
   "metadata": {},
   "outputs": [],
   "source": [
    "'''\n",
    "Stations\n",
    "'''\n",
    "deep_reload(nice)\n",
    "\n",
    "rng = np.random.default_rng(26589763514)\n",
    "\n",
    "energy = 35 * 3.6e6\n",
    "power = 80e3\n",
    "m = 1 / (energy / power)\n",
    "rho = np.concatenate((np.linspace(0, .8, 2), np.linspace(.81, .99, 20)))\n",
    "c = np.arange(0, 41, 1)\n",
    "\n",
    "queue = nice.queue.Queue(m = m)\n",
    "volumes = np.array([rho * m * size for size in c])\n",
    "delays =  np.array(\n",
    "    [queue.interpolate(rho, size)[0] * rho * m * size for size in c]\n",
    ")\n",
    "\n",
    "for station in stations:\n",
    "\n",
    "    graph._node[station]['power'] = power\n",
    "    graph._node[station]['volumes'] = np.atleast_2d(volumes)\n",
    "    graph._node[station]['delays'] = np.atleast_2d(delays * volumes)\n",
    "    graph._node[station]['expenditures'] = c"
   ]
  },
  {
   "cell_type": "code",
   "execution_count": 69,
   "id": "5f294361-fc80-4b96-8d2b-377650b2d859",
   "metadata": {},
   "outputs": [],
   "source": [
    "'''\n",
    "Adding classes\n",
    "'''\n",
    "deep_reload(nice)\n",
    "\n",
    "for place in places:\n",
    "\n",
    "    graph._node[place]['_class'] = nice.optimization.Place\n",
    "\n",
    "for station in stations:\n",
    "\n",
    "    graph._node[station]['_class'] = nice.optimization.Station\n",
    "\n",
    "for source, _adj in graph._adj.items():\n",
    "    for target, edge in _adj.items():\n",
    "\n",
    "        edge['_class'] = nice.optimization.Edge\n",
    "\n",
    "for path in paths:\n",
    "    \n",
    "    path['_class'] = nice.optimization.Path"
   ]
  },
  {
   "cell_type": "code",
   "execution_count": 70,
   "id": "c7285824-baf1-48b8-bcc3-20469bdcb368",
   "metadata": {
    "scrolled": true
   },
   "outputs": [
    {
     "name": "stdout",
     "output_type": "stream",
     "text": [
      "Sets Built: 0.0030968189239501953\n",
      "Parameters Built: 0.0009477138519287109\n",
      "Variables Built: 0.005000114440917969\n",
      "4 0.5\n",
      "'0_4_0::volume' + '0_4_1::volume' + '0_4_2::volume' + '0_4_3::volume' + '0_4_4::volume' + '0_4_5::volume' + '0_4_6::volume'\n",
      "0 0.5\n",
      "'4_0_0::volume' + '4_0_1::volume' + '4_0_2::volume' + '4_0_3::volume' + '4_0_4::volume' + '4_0_5::volume' + '4_0_6::volume'\n",
      "Constraints Built: 0.013234615325927734\n",
      "Expenditure Built: 0.0001800060272216797\n",
      "Objective Built: 0.0002894401550292969\n"
     ]
    }
   ],
   "source": [
    "'''\n",
    "Building the network\n",
    "'''\n",
    "deep_reload(nice)\n",
    "\n",
    "kw = {\n",
    "    'verbose': True,\n",
    "}\n",
    "\n",
    "network = nice.optimization.Network(**kw).from_graph(graph, paths)\n",
    "\n",
    "network.build()"
   ]
  },
  {
   "cell_type": "code",
   "execution_count": 122,
   "id": "348f03f8-4c4b-43e1-8aa9-2cb2092abd14",
   "metadata": {},
   "outputs": [
    {
     "name": "stdout",
     "output_type": "stream",
     "text": [
      "Problem Solved: 0.12253689765930176\n",
      "Results Collected: 0.0014486312866210938\n"
     ]
    }
   ],
   "source": [
    "'''\n",
    "Solving the model\n",
    "'''\n",
    "deep_reload(nice)\n",
    "\n",
    "kw = {\n",
    "    'solver': {\n",
    "        '_name': 'cbc',\n",
    "        # '_name': 'appsi_highs',\n",
    "        'time_limit': 10 * 6,\n",
    "        # 'sec': 10,\n",
    "        # 'ratio': .000001,\n",
    "    },\n",
    "}\n",
    "\n",
    "network.model.scale = 15 / 3600\n",
    "network.model.expenditure = 40\n",
    "network.model.expenditure_cost = 50 * 0\n",
    "network.solve(**kw)\n",
    "solution = network.solution\n",
    "solution = nice.optimization.solution_atlas(\n",
    "    network.solution, atlas, fields = ['volume']\n",
    ")"
   ]
  },
  {
   "cell_type": "code",
   "execution_count": 123,
   "id": "b97b56c4-3b1c-44f6-9437-248456f45d5f",
   "metadata": {},
   "outputs": [
    {
     "data": {
      "text/plain": [
       "0.00097901415"
      ]
     },
     "execution_count": 123,
     "metadata": {},
     "output_type": "execute_result"
    }
   ],
   "source": [
    "import pyomo.environ as pe\n",
    "\n",
    "pe.value(network.model.objective)"
   ]
  },
  {
   "cell_type": "code",
   "execution_count": 124,
   "id": "0f33c69e-0460-4524-a843-844770529594",
   "metadata": {},
   "outputs": [
    {
     "data": {
      "image/png": "[encoded data removed]",
      "text/plain": [
       "<Figure size 800x600 with 2 Axes>"
      ]
     },
     "metadata": {},
     "output_type": "display_data"
    }
   ],
   "source": [
    "deep_reload(nice)\n",
    "\n",
    "fig, ax = plt.subplots(figsize = (8, 6))\n",
    "\n",
    "eps = 0\n",
    "\n",
    "s_nodes = [k for k, n in solution._node.items() if n.get('volume', 0) > 0]\n",
    "s_nodes = [k for k, n in solution._node.items() if n.get('selection', 0) > 0]\n",
    "s_edges = (\n",
    "    [(s, t) for s, a in solution._adj.items() \\\n",
    "     for t, e in a.items() if e.get('volume', 0) > eps]\n",
    ")\n",
    "\n",
    "for source, node in solution._node.items():\n",
    "\n",
    "    node['volume_h'] = node.get('volume', 0) * 3600\n",
    "\n",
    "kw = {\n",
    "    'nodes': {\n",
    "        'selection': s_nodes,\n",
    "        'plot': {\n",
    "            's': 300,\n",
    "            'zorder': 2,\n",
    "            'ec': 'k',\n",
    "            'fc': 'lightgray',\n",
    "        },\n",
    "    },\n",
    "    'edges': {\n",
    "        'field': 'volume',\n",
    "        'selection': s_edges,\n",
    "        'cmap': nice.plot.Colormap(['#888888', '#000000']),\n",
    "        'plot': {\n",
    "            'lw': 2,\n",
    "            'color': 'gray',\n",
    "            'zorder': 1,\n",
    "        },\n",
    "    },\n",
    "}\n",
    "    \n",
    "sm = nice.plot.plot_graph(solution, ax = ax, **kw)\n",
    "\n",
    "kw = {\n",
    "    'nodes': {\n",
    "        'selection': list(places),\n",
    "        'field': 'population',\n",
    "        # 'multiple': 1e6,\n",
    "        'colorbar': {},\n",
    "        'plot': {\n",
    "            's': 300,\n",
    "            'fc': 'k',\n",
    "            'ec': 'k',\n",
    "            'zorder': 3,\n",
    "            'marker': 'H',\n",
    "        },\n",
    "    },\n",
    "    'edges': {\n",
    "        'plot': {\n",
    "            'lw': 1,\n",
    "            'ls': '--',\n",
    "            'color': '#dddddd',\n",
    "            'zorder': 0,\n",
    "        },\n",
    "    },        \n",
    "}\n",
    "    \n",
    "_ = nice.plot.plot_graph(solution, ax = ax, **kw)\n",
    "\n",
    "kw = {\n",
    "    'plot': {\n",
    "        'horizontalalignment': 'center',\n",
    "        'verticalalignment': 'center',\n",
    "        'fontstyle': 'italic',\n",
    "        'fontweight': 'roman',\n",
    "        'fontfamily': 'monospace',\n",
    "    },\n",
    "    'selection': s_nodes,\n",
    "    'field': 'selection',\n",
    "}\n",
    "\n",
    "_ = nice.plot.plot_labels(solution, ax = ax, **kw)\n",
    "\n",
    "kw = {\n",
    "    'facecolor': 'whitesmoke',\n",
    "}\n",
    "\n",
    "ax.set(**kw)\n",
    "\n",
    "kw = {\n",
    "    'ls': 'dashed',\n",
    "}\n",
    "\n",
    "ax.grid(**kw)"
   ]
  },
  {
   "cell_type": "code",
   "execution_count": 115,
   "id": "8b1bd16e-c5e9-4118-bedc-9d7a9c926ce8",
   "metadata": {},
   "outputs": [
    {
     "data": {
      "text/plain": [
       "[([0, 1, 4], {'volume': 0.0}),\n",
       " ([0, 2, 4], {'volume': 0.0020833333}),\n",
       " ([0, 1, 2, 4], {'volume': 0.0}),\n",
       " ([0, 3, 4], {'volume': 0.0}),\n",
       " ([0, 2, 3, 4], {'volume': 0.0}),\n",
       " ([0, 1, 3, 4], {'volume': 0.0}),\n",
       " ([0, 1, 2, 3, 4], {'volume': 0.0}),\n",
       " ([4, 1, 0], {'volume': 0.0}),\n",
       " ([4, 2, 0], {'volume': 0.0}),\n",
       " ([4, 3, 0], {'volume': 0.0020833333}),\n",
       " ([4, 2, 1, 0], {'volume': 0.0}),\n",
       " ([4, 3, 1, 0], {'volume': 0.0}),\n",
       " ([4, 3, 2, 0], {'volume': 0.0}),\n",
       " ([4, 3, 2, 1, 0], {'volume': 0.0})]"
      ]
     },
     "execution_count": 115,
     "metadata": {},
     "output_type": "execute_result"
    }
   ],
   "source": [
    "[(p['path'], p['results']) for p in network.paths]"
   ]
  },
  {
   "cell_type": "code",
   "execution_count": 111,
   "id": "554daaca-e42a-4279-ad27-2504cdc8351d",
   "metadata": {},
   "outputs": [
    {
     "data": {
      "text/plain": [
       "0.013888888888888888"
      ]
     },
     "execution_count": 111,
     "metadata": {},
     "output_type": "execute_result"
    }
   ],
   "source": [
    "1e2 / 3600 / 2"
   ]
  },
  {
   "cell_type": "code",
   "execution_count": null,
   "id": "97c61e9b-634a-45e5-a7cb-0e6669fc6679",
   "metadata": {},
   "outputs": [],
   "source": []
  },
  {
   "cell_type": "code",
   "execution_count": null,
   "id": "50062f2e-2b79-4bf1-8a12-7a153f38c0b6",
   "metadata": {},
   "outputs": [],
   "source": []
  },
  {
   "cell_type": "code",
   "execution_count": null,
   "id": "4644cac0-97eb-466f-a7a1-4be7045cbe64",
   "metadata": {},
   "outputs": [],
   "source": []
  },
  {
   "cell_type": "code",
   "execution_count": 16,
   "id": "4866b944-08ea-46b2-9cff-d2a0d90a6464",
   "metadata": {},
   "outputs": [
    {
     "data": {
      "text/plain": [
       "100"
      ]
     },
     "execution_count": 16,
     "metadata": {},
     "output_type": "execute_result"
    }
   ],
   "source": [
    "s = 0\n",
    "\n",
    "for source, node in solution._node.items():\n",
    "\n",
    "    s += node.get('selection', 0)\n",
    "\n",
    "s"
   ]
  },
  {
   "cell_type": "code",
   "execution_count": null,
   "id": "d40c1ddf-f7ed-4b0a-8bdd-b9afb394cf66",
   "metadata": {},
   "outputs": [],
   "source": []
  },
  {
   "cell_type": "code",
   "execution_count": null,
   "id": "2b2a5e1b-663a-4677-9883-4b4497cf85e2",
   "metadata": {},
   "outputs": [],
   "source": []
  },
  {
   "cell_type": "code",
   "execution_count": null,
   "id": "7a19f6d5-6dab-430d-8a2c-b899b094eccc",
   "metadata": {},
   "outputs": [],
   "source": []
  },
  {
   "cell_type": "code",
   "execution_count": null,
   "id": "363b4a7c-12af-496a-b9d7-0aa15ba59730",
   "metadata": {},
   "outputs": [],
   "source": []
  },
  {
   "cell_type": "code",
   "execution_count": null,
   "id": "c7d37a0f-97aa-4b7f-8162-669d4a8b6df5",
   "metadata": {},
   "outputs": [],
   "source": []
  },
  {
   "cell_type": "code",
   "execution_count": null,
   "id": "bba03ed0-5e84-4ecb-8cc2-f8b276cd48bd",
   "metadata": {},
   "outputs": [],
   "source": []
  },
  {
   "cell_type": "code",
   "execution_count": 8,
   "id": "2bc3702d-e5ff-4cd8-ab14-238da1a72fcc",
   "metadata": {},
   "outputs": [],
   "source": [
    "'''\n",
    "Adding classes\n",
    "'''\n",
    "deep_reload(nice)\n",
    "\n",
    "rng = np.random.default_rng(26589763514)\n",
    "\n",
    "energy = 35 * 3.6e6\n",
    "power = 80e3\n",
    "m = 1 / (energy / power)\n",
    "rho = np.concatenate((np.linspace(0, .8, 2), np.linspace(.81, .99, 20)))\n",
    "c = np.arange(0, 21, 1)\n",
    "\n",
    "queue = nice.queue.Queue(m = m)\n",
    "volumes = np.array([rho * m * size for size in c])\n",
    "delays =  np.array(\n",
    "    [queue.interpolate(rho, size)[0] * rho * m * size for size in c]\n",
    ")\n",
    "\n",
    "for station in stations:\n",
    "\n",
    "    graph._node[station]['power'] = 80e3\n",
    "    graph._node[station]['_class'] = nice.optimization.Station\n",
    "\n",
    "    graph._node[station]['volumes'] = np.atleast_2d(volumes)\n",
    "    graph._node[station]['delays'] = np.atleast_2d(delays * volumes) * 0\n",
    "    graph._node[station]['expenditures'] = c\n",
    "\n",
    "for source, _adj in graph._adj.items():\n",
    "    for target, edge in _adj.items():\n",
    "\n",
    "        edge['_class'] = nice.optimization.Edge\n",
    "\n",
    "for path in paths:\n",
    "\n",
    "    path['capacity'] = 80 * 3.6e6 / 2\n",
    "    path['_class'] = nice.optimization.Path"
   ]
  }
 ],
 "metadata": {
  "kernelspec": {
   "display_name": "Python [conda env:base] *",
   "language": "python",
   "name": "conda-base-py"
  },
  "language_info": {
   "codemirror_mode": {
    "name": "ipython",
    "version": 3
   },
   "file_extension": ".py",
   "mimetype": "text/x-python",
   "name": "python",
   "nbconvert_exporter": "python",
   "pygments_lexer": "ipython3",
   "version": "3.12.7"
  }
 },
 "nbformat": 4,
 "nbformat_minor": 5
}
