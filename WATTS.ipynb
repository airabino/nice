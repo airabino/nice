{
 "cells": [
  {
   "cell_type": "code",
   "execution_count": 1,
   "id": "6a7ad67f-019d-470b-ab55-5a10fb9e1ac1",
   "metadata": {
    "tags": []
   },
   "outputs": [],
   "source": [
    "import warnings\n",
    "warnings.filterwarnings(\"ignore\")\n",
    "\n",
    "import os\n",
    "import sys\n",
    "import time\n",
    "import json\n",
    "import numpy as np\n",
    "import pandas as pd\n",
    "import geopandas as gpd\n",
    "import pickle as pkl\n",
    "import networkx as nx\n",
    "import matplotlib.pyplot as plt"
   ]
  },
  {
   "cell_type": "code",
   "execution_count": 2,
   "id": "a3850079-0c5e-40da-92a2-7758cb684fe6",
   "metadata": {},
   "outputs": [],
   "source": [
    "df_sessions = pd.read_csv('WATTS/evwatts.public.session.csv')"
   ]
  },
  {
   "cell_type": "code",
   "execution_count": 3,
   "id": "1e3a74c7-192e-4461-a4af-46b41ccad266",
   "metadata": {},
   "outputs": [
    {
     "data": {
      "text/plain": [
       "(13937235, 11)"
      ]
     },
     "execution_count": 3,
     "metadata": {},
     "output_type": "execute_result"
    }
   ],
   "source": [
    "df_sessions.shape"
   ]
  },
  {
   "cell_type": "code",
   "execution_count": 5,
   "id": "abe3a613-9305-49fb-a4f9-ca8b5f0f1234",
   "metadata": {
    "scrolled": true
   },
   "outputs": [
    {
     "data": {
      "text/html": [
       "<div>\n",
       "<style scoped>\n",
       "    .dataframe tbody tr th:only-of-type {\n",
       "        vertical-align: middle;\n",
       "    }\n",
       "\n",
       "    .dataframe tbody tr th {\n",
       "        vertical-align: top;\n",
       "    }\n",
       "\n",
       "    .dataframe thead th {\n",
       "        text-align: right;\n",
       "    }\n",
       "</style>\n",
       "<table border=\"1\" class=\"dataframe\">\n",
       "  <thead>\n",
       "    <tr style=\"text-align: right;\">\n",
       "      <th></th>\n",
       "      <th>session_id</th>\n",
       "      <th>evse_id</th>\n",
       "      <th>connector_id</th>\n",
       "      <th>start_datetime</th>\n",
       "      <th>end_datetime</th>\n",
       "      <th>total_duration</th>\n",
       "      <th>charge_duration</th>\n",
       "      <th>energy_kwh</th>\n",
       "      <th>start_soc</th>\n",
       "      <th>end_soc</th>\n",
       "      <th>flag_id</th>\n",
       "    </tr>\n",
       "  </thead>\n",
       "  <tbody>\n",
       "    <tr>\n",
       "      <th>0</th>\n",
       "      <td>11562</td>\n",
       "      <td>5</td>\n",
       "      <td>5</td>\n",
       "      <td>2020-03-01 09:37:44</td>\n",
       "      <td>2020-03-01 11:14:59</td>\n",
       "      <td>1.621389</td>\n",
       "      <td>1.615556</td>\n",
       "      <td>6.170000</td>\n",
       "      <td>NaN</td>\n",
       "      <td>NaN</td>\n",
       "      <td>0</td>\n",
       "    </tr>\n",
       "    <tr>\n",
       "      <th>1</th>\n",
       "      <td>11563</td>\n",
       "      <td>116</td>\n",
       "      <td>116</td>\n",
       "      <td>2020-03-01 10:02:24</td>\n",
       "      <td>2020-03-01 11:08:14</td>\n",
       "      <td>1.096944</td>\n",
       "      <td>1.089722</td>\n",
       "      <td>5.212000</td>\n",
       "      <td>NaN</td>\n",
       "      <td>NaN</td>\n",
       "      <td>0</td>\n",
       "    </tr>\n",
       "    <tr>\n",
       "      <th>2</th>\n",
       "      <td>11564</td>\n",
       "      <td>72</td>\n",
       "      <td>72</td>\n",
       "      <td>2020-03-01 10:06:08</td>\n",
       "      <td>2020-03-01 11:08:10</td>\n",
       "      <td>1.033611</td>\n",
       "      <td>1.024722</td>\n",
       "      <td>3.392000</td>\n",
       "      <td>NaN</td>\n",
       "      <td>NaN</td>\n",
       "      <td>0</td>\n",
       "    </tr>\n",
       "    <tr>\n",
       "      <th>3</th>\n",
       "      <td>11565</td>\n",
       "      <td>1</td>\n",
       "      <td>1</td>\n",
       "      <td>2020-03-01 10:01:12</td>\n",
       "      <td>2020-03-01 11:07:09</td>\n",
       "      <td>1.099722</td>\n",
       "      <td>1.076111</td>\n",
       "      <td>6.521000</td>\n",
       "      <td>NaN</td>\n",
       "      <td>NaN</td>\n",
       "      <td>0</td>\n",
       "    </tr>\n",
       "    <tr>\n",
       "      <th>4</th>\n",
       "      <td>11566</td>\n",
       "      <td>0</td>\n",
       "      <td>138</td>\n",
       "      <td>2020-02-29 19:09:03</td>\n",
       "      <td>2020-03-01 10:47:16</td>\n",
       "      <td>15.636667</td>\n",
       "      <td>12.658889</td>\n",
       "      <td>80.527000</td>\n",
       "      <td>NaN</td>\n",
       "      <td>NaN</td>\n",
       "      <td>0</td>\n",
       "    </tr>\n",
       "    <tr>\n",
       "      <th>...</th>\n",
       "      <td>...</td>\n",
       "      <td>...</td>\n",
       "      <td>...</td>\n",
       "      <td>...</td>\n",
       "      <td>...</td>\n",
       "      <td>...</td>\n",
       "      <td>...</td>\n",
       "      <td>...</td>\n",
       "      <td>...</td>\n",
       "      <td>...</td>\n",
       "      <td>...</td>\n",
       "    </tr>\n",
       "    <tr>\n",
       "      <th>13937230</th>\n",
       "      <td>14715979</td>\n",
       "      <td>27099</td>\n",
       "      <td>36881</td>\n",
       "      <td>2022-12-28 19:51:30</td>\n",
       "      <td>2022-12-29 00:30:53</td>\n",
       "      <td>4.656389</td>\n",
       "      <td>4.655556</td>\n",
       "      <td>45.023398</td>\n",
       "      <td>NaN</td>\n",
       "      <td>NaN</td>\n",
       "      <td>0</td>\n",
       "    </tr>\n",
       "    <tr>\n",
       "      <th>13937231</th>\n",
       "      <td>14715980</td>\n",
       "      <td>27107</td>\n",
       "      <td>36889</td>\n",
       "      <td>2022-10-17 09:32:10</td>\n",
       "      <td>2022-10-17 09:37:22</td>\n",
       "      <td>0.086667</td>\n",
       "      <td>0.710000</td>\n",
       "      <td>8.217523</td>\n",
       "      <td>NaN</td>\n",
       "      <td>NaN</td>\n",
       "      <td>0</td>\n",
       "    </tr>\n",
       "    <tr>\n",
       "      <th>13937232</th>\n",
       "      <td>14715981</td>\n",
       "      <td>27107</td>\n",
       "      <td>36889</td>\n",
       "      <td>2022-10-22 16:38:44</td>\n",
       "      <td>2022-10-22 22:21:32</td>\n",
       "      <td>5.713333</td>\n",
       "      <td>3.056389</td>\n",
       "      <td>10.849586</td>\n",
       "      <td>NaN</td>\n",
       "      <td>NaN</td>\n",
       "      <td>0</td>\n",
       "    </tr>\n",
       "    <tr>\n",
       "      <th>13937233</th>\n",
       "      <td>14715982</td>\n",
       "      <td>27107</td>\n",
       "      <td>36889</td>\n",
       "      <td>2022-10-29 15:29:15</td>\n",
       "      <td>2022-10-29 15:54:17</td>\n",
       "      <td>0.417222</td>\n",
       "      <td>0.416667</td>\n",
       "      <td>2.743180</td>\n",
       "      <td>NaN</td>\n",
       "      <td>NaN</td>\n",
       "      <td>0</td>\n",
       "    </tr>\n",
       "    <tr>\n",
       "      <th>13937234</th>\n",
       "      <td>14715983</td>\n",
       "      <td>34021</td>\n",
       "      <td>45471</td>\n",
       "      <td>2022-12-22 20:35:02</td>\n",
       "      <td>2022-12-22 23:16:06</td>\n",
       "      <td>2.684444</td>\n",
       "      <td>2.679167</td>\n",
       "      <td>8.650672</td>\n",
       "      <td>NaN</td>\n",
       "      <td>NaN</td>\n",
       "      <td>0</td>\n",
       "    </tr>\n",
       "  </tbody>\n",
       "</table>\n",
       "<p>13937235 rows × 11 columns</p>\n",
       "</div>"
      ],
      "text/plain": [
       "          session_id  evse_id  connector_id       start_datetime  \\\n",
       "0              11562        5             5  2020-03-01 09:37:44   \n",
       "1              11563      116           116  2020-03-01 10:02:24   \n",
       "2              11564       72            72  2020-03-01 10:06:08   \n",
       "3              11565        1             1  2020-03-01 10:01:12   \n",
       "4              11566        0           138  2020-02-29 19:09:03   \n",
       "...              ...      ...           ...                  ...   \n",
       "13937230    14715979    27099         36881  2022-12-28 19:51:30   \n",
       "13937231    14715980    27107         36889  2022-10-17 09:32:10   \n",
       "13937232    14715981    27107         36889  2022-10-22 16:38:44   \n",
       "13937233    14715982    27107         36889  2022-10-29 15:29:15   \n",
       "13937234    14715983    34021         45471  2022-12-22 20:35:02   \n",
       "\n",
       "                 end_datetime  total_duration  charge_duration  energy_kwh  \\\n",
       "0         2020-03-01 11:14:59        1.621389         1.615556    6.170000   \n",
       "1         2020-03-01 11:08:14        1.096944         1.089722    5.212000   \n",
       "2         2020-03-01 11:08:10        1.033611         1.024722    3.392000   \n",
       "3         2020-03-01 11:07:09        1.099722         1.076111    6.521000   \n",
       "4         2020-03-01 10:47:16       15.636667        12.658889   80.527000   \n",
       "...                       ...             ...              ...         ...   \n",
       "13937230  2022-12-29 00:30:53        4.656389         4.655556   45.023398   \n",
       "13937231  2022-10-17 09:37:22        0.086667         0.710000    8.217523   \n",
       "13937232  2022-10-22 22:21:32        5.713333         3.056389   10.849586   \n",
       "13937233  2022-10-29 15:54:17        0.417222         0.416667    2.743180   \n",
       "13937234  2022-12-22 23:16:06        2.684444         2.679167    8.650672   \n",
       "\n",
       "          start_soc  end_soc  flag_id  \n",
       "0               NaN      NaN        0  \n",
       "1               NaN      NaN        0  \n",
       "2               NaN      NaN        0  \n",
       "3               NaN      NaN        0  \n",
       "4               NaN      NaN        0  \n",
       "...             ...      ...      ...  \n",
       "13937230        NaN      NaN        0  \n",
       "13937231        NaN      NaN        0  \n",
       "13937232        NaN      NaN        0  \n",
       "13937233        NaN      NaN        0  \n",
       "13937234        NaN      NaN        0  \n",
       "\n",
       "[13937235 rows x 11 columns]"
      ]
     },
     "execution_count": 5,
     "metadata": {},
     "output_type": "execute_result"
    }
   ],
   "source": [
    "df_sessions"
   ]
  },
  {
   "cell_type": "code",
   "execution_count": 4,
   "id": "39c8f8a6-865b-41ee-9a07-bb680d718f71",
   "metadata": {},
   "outputs": [],
   "source": [
    "df_evse = pd.read_csv('Data/Watts/evwatts.public.evse.csv')"
   ]
  },
  {
   "cell_type": "code",
   "execution_count": 5,
   "id": "c3fc782e-5f7d-450a-9618-5d087b7f5b6f",
   "metadata": {},
   "outputs": [
    {
     "data": {
      "text/html": [
       "<div>\n",
       "<style scoped>\n",
       "    .dataframe tbody tr th:only-of-type {\n",
       "        vertical-align: middle;\n",
       "    }\n",
       "\n",
       "    .dataframe tbody tr th {\n",
       "        vertical-align: top;\n",
       "    }\n",
       "\n",
       "    .dataframe thead th {\n",
       "        text-align: right;\n",
       "    }\n",
       "</style>\n",
       "<table border=\"1\" class=\"dataframe\">\n",
       "  <thead>\n",
       "    <tr style=\"text-align: right;\">\n",
       "      <th></th>\n",
       "      <th>evse_id</th>\n",
       "      <th>metro_area</th>\n",
       "      <th>land_use</th>\n",
       "      <th>region</th>\n",
       "      <th>num_ports</th>\n",
       "      <th>charge_level</th>\n",
       "      <th>venue</th>\n",
       "      <th>pricing</th>\n",
       "    </tr>\n",
       "  </thead>\n",
       "  <tbody>\n",
       "    <tr>\n",
       "      <th>0</th>\n",
       "      <td>6034</td>\n",
       "      <td>Undesignated</td>\n",
       "      <td>Metro Area</td>\n",
       "      <td>Mountain</td>\n",
       "      <td>1</td>\n",
       "      <td>DCFC</td>\n",
       "      <td>Corridor</td>\n",
       "      <td>Paid</td>\n",
       "    </tr>\n",
       "    <tr>\n",
       "      <th>1</th>\n",
       "      <td>6065</td>\n",
       "      <td>Undesignated</td>\n",
       "      <td>Metro Area</td>\n",
       "      <td>Mountain</td>\n",
       "      <td>1</td>\n",
       "      <td>DCFC</td>\n",
       "      <td>Corridor</td>\n",
       "      <td>Paid</td>\n",
       "    </tr>\n",
       "    <tr>\n",
       "      <th>2</th>\n",
       "      <td>6100</td>\n",
       "      <td>Phoenix-Mesa-Chandler, AZ Metro Area</td>\n",
       "      <td>Metro Area</td>\n",
       "      <td>Mountain</td>\n",
       "      <td>1</td>\n",
       "      <td>DCFC</td>\n",
       "      <td>Undesignated</td>\n",
       "      <td>Free</td>\n",
       "    </tr>\n",
       "    <tr>\n",
       "      <th>3</th>\n",
       "      <td>6155</td>\n",
       "      <td>Undesignated</td>\n",
       "      <td>Metro Area</td>\n",
       "      <td>Mountain</td>\n",
       "      <td>1</td>\n",
       "      <td>DCFC</td>\n",
       "      <td>Corridor</td>\n",
       "      <td>Paid</td>\n",
       "    </tr>\n",
       "    <tr>\n",
       "      <th>4</th>\n",
       "      <td>1315</td>\n",
       "      <td>Denver-Aurora-Lakewood, CO Metro Area</td>\n",
       "      <td>Metro Area</td>\n",
       "      <td>Mountain</td>\n",
       "      <td>1</td>\n",
       "      <td>DCFC</td>\n",
       "      <td>Corridor</td>\n",
       "      <td>Free</td>\n",
       "    </tr>\n",
       "  </tbody>\n",
       "</table>\n",
       "</div>"
      ],
      "text/plain": [
       "   evse_id                             metro_area    land_use    region  \\\n",
       "0     6034                           Undesignated  Metro Area  Mountain   \n",
       "1     6065                           Undesignated  Metro Area  Mountain   \n",
       "2     6100   Phoenix-Mesa-Chandler, AZ Metro Area  Metro Area  Mountain   \n",
       "3     6155                           Undesignated  Metro Area  Mountain   \n",
       "4     1315  Denver-Aurora-Lakewood, CO Metro Area  Metro Area  Mountain   \n",
       "\n",
       "   num_ports charge_level         venue pricing  \n",
       "0          1         DCFC      Corridor    Paid  \n",
       "1          1         DCFC      Corridor    Paid  \n",
       "2          1         DCFC  Undesignated    Free  \n",
       "3          1         DCFC      Corridor    Paid  \n",
       "4          1         DCFC      Corridor    Free  "
      ]
     },
     "execution_count": 5,
     "metadata": {},
     "output_type": "execute_result"
    }
   ],
   "source": [
    "df_evse.head(5)"
   ]
  },
  {
   "cell_type": "code",
   "execution_count": 13,
   "id": "3e8e0523-d1c9-4788-a413-56bf90471677",
   "metadata": {},
   "outputs": [],
   "source": [
    "df_evse_sel = df_evse[(\n",
    "    (df_evse['venue'] == 'Corridor') &\n",
    "    (df_evse['pricing'] == 'Paid') &\n",
    "    (df_evse['charge_level'] == 'DCFC') &\n",
    "    (df_evse['region'] == 'Pacific')\n",
    ")]"
   ]
  },
  {
   "cell_type": "code",
   "execution_count": 16,
   "id": "47726fda-615a-4949-bb8d-831b8fcae63e",
   "metadata": {},
   "outputs": [],
   "source": [
    "evse_ids = df_evse_sel['evse_id'].to_numpy()"
   ]
  },
  {
   "cell_type": "code",
   "execution_count": 83,
   "id": "776c5734-1206-443f-b649-a2155f689c41",
   "metadata": {},
   "outputs": [],
   "source": [
    "df_sessions['in_sample_evse'] = df_sessions.apply(\n",
    "    lambda r: r.evse_id in evse_ids, axis = 1,\n",
    ")"
   ]
  },
  {
   "cell_type": "code",
   "execution_count": 72,
   "id": "40ace8a6-3ac4-41c0-808e-a4acb38aad1e",
   "metadata": {},
   "outputs": [],
   "source": [
    "df_connector = pd.read_csv('Data/Watts/evwatts.public.connector.csv')"
   ]
  },
  {
   "cell_type": "code",
   "execution_count": 73,
   "id": "69e3fc10-6bd2-4a5a-8e1c-0c999d2ec1de",
   "metadata": {},
   "outputs": [
    {
     "data": {
      "text/html": [
       "<div>\n",
       "<style scoped>\n",
       "    .dataframe tbody tr th:only-of-type {\n",
       "        vertical-align: middle;\n",
       "    }\n",
       "\n",
       "    .dataframe tbody tr th {\n",
       "        vertical-align: top;\n",
       "    }\n",
       "\n",
       "    .dataframe thead th {\n",
       "        text-align: right;\n",
       "    }\n",
       "</style>\n",
       "<table border=\"1\" class=\"dataframe\">\n",
       "  <thead>\n",
       "    <tr style=\"text-align: right;\">\n",
       "      <th></th>\n",
       "      <th>connector_id</th>\n",
       "      <th>evse_id</th>\n",
       "      <th>connector_number</th>\n",
       "      <th>connector_type</th>\n",
       "      <th>power_kw</th>\n",
       "    </tr>\n",
       "  </thead>\n",
       "  <tbody>\n",
       "    <tr>\n",
       "      <th>0</th>\n",
       "      <td>38494</td>\n",
       "      <td>25683</td>\n",
       "      <td>1</td>\n",
       "      <td>J1772</td>\n",
       "      <td>&gt;8 kW</td>\n",
       "    </tr>\n",
       "    <tr>\n",
       "      <th>1</th>\n",
       "      <td>38358</td>\n",
       "      <td>27850</td>\n",
       "      <td>1</td>\n",
       "      <td>J1772</td>\n",
       "      <td>&gt;8 kW</td>\n",
       "    </tr>\n",
       "    <tr>\n",
       "      <th>2</th>\n",
       "      <td>44144</td>\n",
       "      <td>31875</td>\n",
       "      <td>1</td>\n",
       "      <td>J1772</td>\n",
       "      <td>&gt;8 kW</td>\n",
       "    </tr>\n",
       "    <tr>\n",
       "      <th>3</th>\n",
       "      <td>45088</td>\n",
       "      <td>32971</td>\n",
       "      <td>1</td>\n",
       "      <td>J1772</td>\n",
       "      <td>&gt;8 kW</td>\n",
       "    </tr>\n",
       "    <tr>\n",
       "      <th>4</th>\n",
       "      <td>9643</td>\n",
       "      <td>5712</td>\n",
       "      <td>1</td>\n",
       "      <td>J1772</td>\n",
       "      <td>&lt;8 kW</td>\n",
       "    </tr>\n",
       "  </tbody>\n",
       "</table>\n",
       "</div>"
      ],
      "text/plain": [
       "   connector_id  evse_id  connector_number connector_type power_kw\n",
       "0         38494    25683                 1          J1772    >8 kW\n",
       "1         38358    27850                 1          J1772    >8 kW\n",
       "2         44144    31875                 1          J1772    >8 kW\n",
       "3         45088    32971                 1          J1772    >8 kW\n",
       "4          9643     5712                 1          J1772    <8 kW"
      ]
     },
     "execution_count": 73,
     "metadata": {},
     "output_type": "execute_result"
    }
   ],
   "source": [
    "df_connector.head(5)"
   ]
  },
  {
   "cell_type": "code",
   "execution_count": 74,
   "id": "643883cf-db2e-45e0-a907-09ba75295555",
   "metadata": {},
   "outputs": [
    {
     "data": {
      "text/plain": [
       "array(['J1772', 'CHAdeMO', 'Combo'], dtype=object)"
      ]
     },
     "execution_count": 74,
     "metadata": {},
     "output_type": "execute_result"
    }
   ],
   "source": [
    "df_connector['connector_type'].unique()"
   ]
  },
  {
   "cell_type": "code",
   "execution_count": 76,
   "id": "a0289d5c-db11-42a2-a868-893af519b034",
   "metadata": {},
   "outputs": [
    {
     "data": {
      "text/plain": [
       "(array(['30 kW - 100 kW', '<30 kW', '<8 kW', '>100 kW', '>8 kW',\n",
       "        'Undesignated'], dtype=object),\n",
       " array([ 5478,  1623, 27134,   104, 15707,    57]))"
      ]
     },
     "execution_count": 76,
     "metadata": {},
     "output_type": "execute_result"
    }
   ],
   "source": [
    "np.unique(df_connector['power_kw'], return_counts = True)"
   ]
  },
  {
   "cell_type": "code",
   "execution_count": 77,
   "id": "0e19b15d-3d1b-4c43-94a1-bd1d0042ef26",
   "metadata": {},
   "outputs": [],
   "source": [
    "df_connector_sel = df_connector[(\n",
    "    (df_connector['power_kw'] == '30 kW - 100 kW') |\n",
    "    (df_connector['power_kw'] == '>100 kW')\n",
    ")]"
   ]
  },
  {
   "cell_type": "code",
   "execution_count": 80,
   "id": "28b6c32d-d54d-459c-8bdb-fccb88a7b038",
   "metadata": {},
   "outputs": [],
   "source": [
    "connector_ids = df_connector_sel['connector_id'].to_numpy()"
   ]
  },
  {
   "cell_type": "code",
   "execution_count": 81,
   "id": "99e70e63-86f0-4c60-971f-0a3d7e729baf",
   "metadata": {},
   "outputs": [],
   "source": [
    "df_sessions['in_sample_connector'] = df_sessions.apply(\n",
    "    lambda r: r.connector_id in connector_ids, axis = 1,\n",
    ")"
   ]
  },
  {
   "cell_type": "code",
   "execution_count": 84,
   "id": "70e6c743-b96a-4119-bed6-a6c317c59ec1",
   "metadata": {},
   "outputs": [],
   "source": [
    "df_sessions_sel = df_sessions[(\n",
    "    (df_sessions['in_sample_evse']) &\n",
    "    (df_sessions['in_sample_connector'])\n",
    ")]"
   ]
  },
  {
   "cell_type": "code",
   "execution_count": 85,
   "id": "6dcd922b-5413-4ef0-8c22-94bbbcb5c6b3",
   "metadata": {},
   "outputs": [
    {
     "data": {
      "text/plain": [
       "(515976, 14)"
      ]
     },
     "execution_count": 85,
     "metadata": {},
     "output_type": "execute_result"
    }
   ],
   "source": [
    "df_sessions_sel.shape"
   ]
  },
  {
   "cell_type": "code",
   "execution_count": 86,
   "id": "5084bcd8-5f93-4a0a-b06a-2ff666eabac2",
   "metadata": {},
   "outputs": [],
   "source": [
    "pkl.dump(df_sessions_sel, open('Outputs/df_sessions_sel.pkl', 'wb'))"
   ]
  },
  {
   "cell_type": "code",
   "execution_count": 87,
   "id": "5b673d21-d209-485c-9639-7cfbf17665b0",
   "metadata": {},
   "outputs": [],
   "source": [
    "df_sessions_sel = pkl.load(open('Outputs/df_sessions_sel.pkl', 'rb'))\n",
    "\n",
    "df_sessions_sel = df_sessions_sel[df_sessions_sel['charge_duration'] > 0]"
   ]
  },
  {
   "cell_type": "code",
   "execution_count": 88,
   "id": "2f138987-6c1c-4777-9cdd-20bd70b4c69f",
   "metadata": {},
   "outputs": [
    {
     "data": {
      "text/plain": [
       "Index(['session_id', 'evse_id', 'connector_id', 'start_datetime',\n",
       "       'end_datetime', 'total_duration', 'charge_duration', 'energy_kwh',\n",
       "       'start_soc', 'end_soc', 'flag_id', 'in_sample', 'in_sample_connector',\n",
       "       'in_sample_evse'],\n",
       "      dtype='object')"
      ]
     },
     "execution_count": 88,
     "metadata": {},
     "output_type": "execute_result"
    }
   ],
   "source": [
    "df_sessions_sel.keys()"
   ]
  },
  {
   "cell_type": "code",
   "execution_count": 89,
   "id": "6cb66760-6a62-4b94-8cea-df8d45075c1a",
   "metadata": {},
   "outputs": [
    {
     "data": {
      "text/html": [
       "<div>\n",
       "<style scoped>\n",
       "    .dataframe tbody tr th:only-of-type {\n",
       "        vertical-align: middle;\n",
       "    }\n",
       "\n",
       "    .dataframe tbody tr th {\n",
       "        vertical-align: top;\n",
       "    }\n",
       "\n",
       "    .dataframe thead th {\n",
       "        text-align: right;\n",
       "    }\n",
       "</style>\n",
       "<table border=\"1\" class=\"dataframe\">\n",
       "  <thead>\n",
       "    <tr style=\"text-align: right;\">\n",
       "      <th></th>\n",
       "      <th>session_id</th>\n",
       "      <th>evse_id</th>\n",
       "      <th>connector_id</th>\n",
       "      <th>start_datetime</th>\n",
       "      <th>end_datetime</th>\n",
       "      <th>total_duration</th>\n",
       "      <th>charge_duration</th>\n",
       "      <th>energy_kwh</th>\n",
       "      <th>start_soc</th>\n",
       "      <th>end_soc</th>\n",
       "      <th>flag_id</th>\n",
       "      <th>in_sample</th>\n",
       "      <th>in_sample_connector</th>\n",
       "      <th>in_sample_evse</th>\n",
       "    </tr>\n",
       "  </thead>\n",
       "  <tbody>\n",
       "    <tr>\n",
       "      <th>155331</th>\n",
       "      <td>162252</td>\n",
       "      <td>947</td>\n",
       "      <td>1628</td>\n",
       "      <td>2020-01-19 23:54:40</td>\n",
       "      <td>2020-01-20 00:03:07</td>\n",
       "      <td>0.140833</td>\n",
       "      <td>0.136667</td>\n",
       "      <td>5.798000</td>\n",
       "      <td>26.0</td>\n",
       "      <td>55.0</td>\n",
       "      <td>0</td>\n",
       "      <td>True</td>\n",
       "      <td>True</td>\n",
       "      <td>True</td>\n",
       "    </tr>\n",
       "    <tr>\n",
       "      <th>155332</th>\n",
       "      <td>162253</td>\n",
       "      <td>948</td>\n",
       "      <td>1629</td>\n",
       "      <td>2020-03-11 11:59:24</td>\n",
       "      <td>2020-03-11 12:10:45</td>\n",
       "      <td>0.189167</td>\n",
       "      <td>0.186667</td>\n",
       "      <td>8.251000</td>\n",
       "      <td>31.0</td>\n",
       "      <td>70.0</td>\n",
       "      <td>0</td>\n",
       "      <td>True</td>\n",
       "      <td>True</td>\n",
       "      <td>True</td>\n",
       "    </tr>\n",
       "    <tr>\n",
       "      <th>184452</th>\n",
       "      <td>223187</td>\n",
       "      <td>1579</td>\n",
       "      <td>2515</td>\n",
       "      <td>2019-11-15 16:59:15</td>\n",
       "      <td>2019-11-15 17:15:54</td>\n",
       "      <td>0.277500</td>\n",
       "      <td>0.266667</td>\n",
       "      <td>8.796000</td>\n",
       "      <td>52.0</td>\n",
       "      <td>66.0</td>\n",
       "      <td>0</td>\n",
       "      <td>True</td>\n",
       "      <td>True</td>\n",
       "      <td>True</td>\n",
       "    </tr>\n",
       "    <tr>\n",
       "      <th>184595</th>\n",
       "      <td>223200</td>\n",
       "      <td>1579</td>\n",
       "      <td>2516</td>\n",
       "      <td>2019-11-17 11:19:47</td>\n",
       "      <td>2019-11-17 13:58:21</td>\n",
       "      <td>2.642778</td>\n",
       "      <td>2.641111</td>\n",
       "      <td>17.853001</td>\n",
       "      <td>50.0</td>\n",
       "      <td>96.0</td>\n",
       "      <td>0</td>\n",
       "      <td>True</td>\n",
       "      <td>True</td>\n",
       "      <td>True</td>\n",
       "    </tr>\n",
       "    <tr>\n",
       "      <th>184596</th>\n",
       "      <td>223201</td>\n",
       "      <td>1579</td>\n",
       "      <td>2516</td>\n",
       "      <td>2019-11-17 10:35:25</td>\n",
       "      <td>2019-11-17 11:15:15</td>\n",
       "      <td>0.663889</td>\n",
       "      <td>0.660833</td>\n",
       "      <td>24.476000</td>\n",
       "      <td>47.0</td>\n",
       "      <td>89.0</td>\n",
       "      <td>0</td>\n",
       "      <td>True</td>\n",
       "      <td>True</td>\n",
       "      <td>True</td>\n",
       "    </tr>\n",
       "    <tr>\n",
       "      <th>184597</th>\n",
       "      <td>223202</td>\n",
       "      <td>1579</td>\n",
       "      <td>2516</td>\n",
       "      <td>2019-11-15 14:07:59</td>\n",
       "      <td>2019-11-15 14:53:51</td>\n",
       "      <td>0.764444</td>\n",
       "      <td>0.761111</td>\n",
       "      <td>17.711000</td>\n",
       "      <td>47.0</td>\n",
       "      <td>94.0</td>\n",
       "      <td>0</td>\n",
       "      <td>True</td>\n",
       "      <td>True</td>\n",
       "      <td>True</td>\n",
       "    </tr>\n",
       "    <tr>\n",
       "      <th>184601</th>\n",
       "      <td>223206</td>\n",
       "      <td>1580</td>\n",
       "      <td>2517</td>\n",
       "      <td>2019-11-16 16:16:32</td>\n",
       "      <td>2019-11-16 16:30:21</td>\n",
       "      <td>0.230278</td>\n",
       "      <td>0.225556</td>\n",
       "      <td>8.439000</td>\n",
       "      <td>63.0</td>\n",
       "      <td>78.0</td>\n",
       "      <td>0</td>\n",
       "      <td>True</td>\n",
       "      <td>True</td>\n",
       "      <td>True</td>\n",
       "    </tr>\n",
       "    <tr>\n",
       "      <th>184602</th>\n",
       "      <td>223207</td>\n",
       "      <td>1580</td>\n",
       "      <td>2517</td>\n",
       "      <td>2019-11-17 10:33:44</td>\n",
       "      <td>2019-11-17 11:44:26</td>\n",
       "      <td>1.178333</td>\n",
       "      <td>1.171111</td>\n",
       "      <td>30.152000</td>\n",
       "      <td>45.0</td>\n",
       "      <td>98.0</td>\n",
       "      <td>0</td>\n",
       "      <td>True</td>\n",
       "      <td>True</td>\n",
       "      <td>True</td>\n",
       "    </tr>\n",
       "    <tr>\n",
       "      <th>184603</th>\n",
       "      <td>223208</td>\n",
       "      <td>1580</td>\n",
       "      <td>2517</td>\n",
       "      <td>2019-11-14 12:07:54</td>\n",
       "      <td>2019-11-14 12:28:28</td>\n",
       "      <td>0.342778</td>\n",
       "      <td>0.338889</td>\n",
       "      <td>14.726000</td>\n",
       "      <td>25.0</td>\n",
       "      <td>52.0</td>\n",
       "      <td>0</td>\n",
       "      <td>True</td>\n",
       "      <td>True</td>\n",
       "      <td>True</td>\n",
       "    </tr>\n",
       "    <tr>\n",
       "      <th>184604</th>\n",
       "      <td>223209</td>\n",
       "      <td>1581</td>\n",
       "      <td>2518</td>\n",
       "      <td>2019-10-04 12:26:34</td>\n",
       "      <td>2019-10-04 12:56:18</td>\n",
       "      <td>0.495556</td>\n",
       "      <td>0.493333</td>\n",
       "      <td>20.747999</td>\n",
       "      <td>7.0</td>\n",
       "      <td>43.0</td>\n",
       "      <td>0</td>\n",
       "      <td>True</td>\n",
       "      <td>True</td>\n",
       "      <td>True</td>\n",
       "    </tr>\n",
       "  </tbody>\n",
       "</table>\n",
       "</div>"
      ],
      "text/plain": [
       "        session_id  evse_id  connector_id       start_datetime  \\\n",
       "155331      162252      947          1628  2020-01-19 23:54:40   \n",
       "155332      162253      948          1629  2020-03-11 11:59:24   \n",
       "184452      223187     1579          2515  2019-11-15 16:59:15   \n",
       "184595      223200     1579          2516  2019-11-17 11:19:47   \n",
       "184596      223201     1579          2516  2019-11-17 10:35:25   \n",
       "184597      223202     1579          2516  2019-11-15 14:07:59   \n",
       "184601      223206     1580          2517  2019-11-16 16:16:32   \n",
       "184602      223207     1580          2517  2019-11-17 10:33:44   \n",
       "184603      223208     1580          2517  2019-11-14 12:07:54   \n",
       "184604      223209     1581          2518  2019-10-04 12:26:34   \n",
       "\n",
       "               end_datetime  total_duration  charge_duration  energy_kwh  \\\n",
       "155331  2020-01-20 00:03:07        0.140833         0.136667    5.798000   \n",
       "155332  2020-03-11 12:10:45        0.189167         0.186667    8.251000   \n",
       "184452  2019-11-15 17:15:54        0.277500         0.266667    8.796000   \n",
       "184595  2019-11-17 13:58:21        2.642778         2.641111   17.853001   \n",
       "184596  2019-11-17 11:15:15        0.663889         0.660833   24.476000   \n",
       "184597  2019-11-15 14:53:51        0.764444         0.761111   17.711000   \n",
       "184601  2019-11-16 16:30:21        0.230278         0.225556    8.439000   \n",
       "184602  2019-11-17 11:44:26        1.178333         1.171111   30.152000   \n",
       "184603  2019-11-14 12:28:28        0.342778         0.338889   14.726000   \n",
       "184604  2019-10-04 12:56:18        0.495556         0.493333   20.747999   \n",
       "\n",
       "        start_soc  end_soc  flag_id  in_sample  in_sample_connector  \\\n",
       "155331       26.0     55.0        0       True                 True   \n",
       "155332       31.0     70.0        0       True                 True   \n",
       "184452       52.0     66.0        0       True                 True   \n",
       "184595       50.0     96.0        0       True                 True   \n",
       "184596       47.0     89.0        0       True                 True   \n",
       "184597       47.0     94.0        0       True                 True   \n",
       "184601       63.0     78.0        0       True                 True   \n",
       "184602       45.0     98.0        0       True                 True   \n",
       "184603       25.0     52.0        0       True                 True   \n",
       "184604        7.0     43.0        0       True                 True   \n",
       "\n",
       "        in_sample_evse  \n",
       "155331            True  \n",
       "155332            True  \n",
       "184452            True  \n",
       "184595            True  \n",
       "184596            True  \n",
       "184597            True  \n",
       "184601            True  \n",
       "184602            True  \n",
       "184603            True  \n",
       "184604            True  "
      ]
     },
     "execution_count": 89,
     "metadata": {},
     "output_type": "execute_result"
    }
   ],
   "source": [
    "df_sessions_sel.head(10)"
   ]
  },
  {
   "cell_type": "code",
   "execution_count": 100,
   "id": "6ac97b1e-dd10-4ca9-b71d-8655fa03b619",
   "metadata": {},
   "outputs": [],
   "source": [
    "energy_kwh = df_sessions_sel['energy_kwh'].to_numpy()\n",
    "charge_duration = df_sessions_sel['charge_duration'].to_numpy()\n",
    "end_soc = df_sessions_sel['end_soc'].to_numpy()\n",
    "start_soc = df_sessions_sel['start_soc'].to_numpy()"
   ]
  },
  {
   "cell_type": "code",
   "execution_count": 101,
   "id": "fbafbd96-491b-4006-8f5b-63bbf4452de5",
   "metadata": {},
   "outputs": [
    {
     "data": {
      "text/plain": [
       "(array([49424., 88445., 98020., 85823., 69512., 52434., 33173., 17598.,\n",
       "         8436.,  5912.]),\n",
       " array([  0.,  10.,  20.,  30.,  40.,  50.,  60.,  70.,  80.,  90., 100.]),\n",
       " <BarContainer object of 10 artists>)"
      ]
     },
     "execution_count": 101,
     "metadata": {},
     "output_type": "execute_result"
    },
    {
     "data": {
      "image/png": "[encoded data removed]",
      "text/plain": [
       "<Figure size 640x480 with 1 Axes>"
      ]
     },
     "metadata": {},
     "output_type": "display_data"
    }
   ],
   "source": [
    "plt.hist(start_soc)"
   ]
  },
  {
   "cell_type": "code",
   "execution_count": 102,
   "id": "bbcedced-272f-4d7b-8fad-fcfe63c64a85",
   "metadata": {},
   "outputs": [
    {
     "data": {
      "text/plain": [
       "(array([  2238.,   5920.,  11536.,  16797.,  23803.,  34920.,  46497.,\n",
       "         71706., 124065., 177236.]),\n",
       " array([  0.,  10.,  20.,  30.,  40.,  50.,  60.,  70.,  80.,  90., 100.]),\n",
       " <BarContainer object of 10 artists>)"
      ]
     },
     "execution_count": 102,
     "metadata": {},
     "output_type": "execute_result"
    },
    {
     "data": {
      "image/png": "[encoded data removed]",
      "text/plain": [
       "<Figure size 640x480 with 1 Axes>"
      ]
     },
     "metadata": {},
     "output_type": "display_data"
    }
   ],
   "source": [
    "plt.hist(end_soc)"
   ]
  },
  {
   "cell_type": "code",
   "execution_count": 114,
   "id": "1a146548-bc82-4522-98e5-4939e48d138a",
   "metadata": {},
   "outputs": [],
   "source": [
    "df_sessions_sel_sel = df_sessions_sel[df_sessions_sel['end_soc'] <= 80]\n",
    "df_sessions_sel_sel = df_sessions_sel[df_sessions_sel['start_soc'] >= 20]\n",
    "\n",
    "energy_kwh = df_sessions_sel_sel['energy_kwh'].to_numpy()\n",
    "charge_duration = df_sessions_sel_sel['charge_duration'].to_numpy()\n",
    "end_soc = df_sessions_sel_sel['end_soc'].to_numpy()\n",
    "start_soc = df_sessions_sel_sel['start_soc'].to_numpy()\n",
    "\n",
    "charge_rate = energy_kwh / charge_duration"
   ]
  },
  {
   "cell_type": "code",
   "execution_count": 135,
   "id": "d89b5651-57c5-445e-affc-457a8abca065",
   "metadata": {},
   "outputs": [
    {
     "data": {
      "image/png": "[encoded data removed]",
      "text/plain": [
       "<Figure size 600x900 with 3 Axes>"
      ]
     },
     "metadata": {},
     "output_type": "display_data"
    }
   ],
   "source": [
    "from scipy.stats import rv_histogram\n",
    "\n",
    "fig, ax = plt.subplots(3, 1, figsize = (6, 9), gridspec_kw = {'hspace': .3})\n",
    "\n",
    "kw = {\n",
    "    'density': True,\n",
    "    'ec': 'k',\n",
    "    'lw': 2,\n",
    "    'rwidth': .8,\n",
    "    'zorder': 3,\n",
    "}\n",
    "\n",
    "kw['fc'] = '#01c472'\n",
    "\n",
    "h = rv_histogram(np.histogram(energy_kwh))\n",
    "\n",
    "bins = np.linspace(\n",
    "    h.ppf(.01),\n",
    "    h.ppf(.99),\n",
    "    20,\n",
    ")\n",
    "\n",
    "ax[0].hist(energy_kwh, bins = bins, **kw)\n",
    "ax[0].set_xlabel('Energy Delivered [kWh]')\n",
    "\n",
    "kw['fc'] = '#1e6c3c'\n",
    "\n",
    "h = rv_histogram(np.histogram(charge_duration * 60))\n",
    "\n",
    "bins = np.linspace(\n",
    "    h.ppf(.01),\n",
    "    h.ppf(.25),\n",
    "    20,\n",
    ")\n",
    "\n",
    "ax[1].hist(charge_duration * 60, bins = bins, **kw)\n",
    "ax[1].set_xlabel('Charging Time [min]')\n",
    "\n",
    "kw['fc'] = '#72e5ef'\n",
    "\n",
    "h = rv_histogram(np.histogram(charge_rate))\n",
    "\n",
    "bins = np.linspace(\n",
    "    h.ppf(.01),\n",
    "    h.ppf(.99),\n",
    "    20,\n",
    ")\n",
    "\n",
    "ax[2].hist(charge_rate, bins = bins, **kw)\n",
    "ax[2].set_xlabel('Mean Charging Rate [kW]')\n",
    "\n",
    "kw = {\n",
    "    'ls': 'dashed',\n",
    "    'color': 'k',\n",
    "    'zorder': 0,\n",
    "}\n",
    "\n",
    "_ = [ax.grid(**kw) for ax in ax]\n",
    "\n",
    "kw = {\n",
    "    'facecolor': 'whitesmoke',\n",
    "    'ylabel': 'Density [-]',\n",
    "    'zorder': 0,\n",
    "}\n",
    "\n",
    "_ = [ax.set(**kw) for ax in ax]"
   ]
  },
  {
   "cell_type": "code",
   "execution_count": 99,
   "id": "623428b3-23fe-46be-8eed-d466825cdc19",
   "metadata": {},
   "outputs": [
    {
     "data": {
      "text/plain": [
       "(37.663242018332724, 13.07428290989159)"
      ]
     },
     "execution_count": 99,
     "metadata": {},
     "output_type": "execute_result"
    }
   ],
   "source": [
    "charge_rate = energy_kwh / charge_duration\n",
    "charge_rate.mean(), charge_rate.std()"
   ]
  },
  {
   "cell_type": "code",
   "execution_count": 99,
   "id": "f0923d7c-00ae-4062-a3b1-409bf146a787",
   "metadata": {},
   "outputs": [
    {
     "data": {
      "text/plain": [
       "(37.663242018332724, 13.07428290989159)"
      ]
     },
     "execution_count": 99,
     "metadata": {},
     "output_type": "execute_result"
    }
   ],
   "source": [
    "charge_rate = energy_kwh / charge_duration\n",
    "charge_rate.mean(), charge_rate.std()"
   ]
  },
  {
   "cell_type": "code",
   "execution_count": 107,
   "id": "ecb4dce2-842a-4b42-85e0-bdefbfd47a17",
   "metadata": {},
   "outputs": [
    {
     "data": {
      "text/plain": [
       "(0.47065779423825443, 0.47065779423825443)"
      ]
     },
     "execution_count": 107,
     "metadata": {},
     "output_type": "execute_result"
    }
   ],
   "source": [
    "delta_soc = end_soc - start_soc\n",
    "battery_size = energy_kwh / delta_soc\n",
    "battery_size[battery_size == np.inf] = np.nan\n",
    "np.nanmean(battery_size), np.nanmean(battery_size)"
   ]
  },
  {
   "cell_type": "code",
   "execution_count": 112,
   "id": "1f180227-2ff8-4fb2-9112-eff6ec705e52",
   "metadata": {
    "jupyter": {
     "source_hidden": true
    }
   },
   "outputs": [
    {
     "data": {
      "text/plain": [
       "125.0"
      ]
     },
     "execution_count": 112,
     "metadata": {},
     "output_type": "execute_result"
    }
   ],
   "source": [
    "30000 / 240"
   ]
  }
 ],
 "metadata": {
  "kernelspec": {
   "display_name": "Python [conda env:base] *",
   "language": "python",
   "name": "conda-base-py"
  },
  "language_info": {
   "codemirror_mode": {
    "name": "ipython",
    "version": 3
   },
   "file_extension": ".py",
   "mimetype": "text/x-python",
   "name": "python",
   "nbconvert_exporter": "python",
   "pygments_lexer": "ipython3",
   "version": "3.12.7"
  }
 },
 "nbformat": 4,
 "nbformat_minor": 5
}
